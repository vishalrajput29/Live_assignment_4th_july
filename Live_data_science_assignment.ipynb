{
  "nbformat": 4,
  "nbformat_minor": 0,
  "metadata": {
    "colab": {
      "provenance": []
    },
    "kernelspec": {
      "name": "python3",
      "display_name": "Python 3"
    },
    "language_info": {
      "name": "python"
    }
  },
  "cells": [
    {
      "cell_type": "markdown",
      "source": [
        "**bold text**python stars from here\n"
      ],
      "metadata": {
        "id": "39iwfFe9TClQ"
      }
    },
    {
      "cell_type": "code",
      "source": [
        "# python"
      ],
      "metadata": {
        "id": "SX03aogLTI6H"
      },
      "execution_count": null,
      "outputs": []
    },
    {
      "cell_type": "code",
      "source": [
        "# question- 1.1\n",
        "# (i) What is the difference between static and dynamic variables in Python.\n",
        "\"\"\" static variables are declared within a class but outside of any function. They retain their value throughout the entire program execution and are shared by all instances of the class.\"\"\"\n",
        "\"\"\"// C++ example with a static variable\n",
        "class MyClass {\n",
        "public:\n",
        "  static int counter; // Static variable declaration\n",
        "\n",
        "  MyClass() {\n",
        "    counter++;  // Increment counter in each object creation\n",
        "  }\n",
        "};\n",
        "\n",
        "int MyClass::counter = 0; // Static variable initialization outside \"\"\"\n",
        "\"\"\"Python is a dynamically typed language. Variables don't have a fixed type associated with them at declaration. Their type is determined at runtime based on the value assigned. The memory allocation for these variables happens\"\"\"\n",
        "\"\"\"\n",
        "age = 30  # Dynamic variable, type is int at runtime\n",
        "name = \"Alice\"  # Dynamic variable, type is str at runtime\n",
        "\n",
        "def greet():\n",
        "  message = \"Hello!\"  # Dynamic variable within a function\n",
        "\n",
        "age = \"Thirty\"  # You can reassign the same variable name with \"\"\""
      ],
      "metadata": {
        "colab": {
          "base_uri": "https://localhost:8080/",
          "height": 53
        },
        "id": "E2GExSRfXU0v",
        "outputId": "b1ae469f-3e84-4f5f-ba1f-e6c9cde9e872"
      },
      "execution_count": null,
      "outputs": [
        {
          "output_type": "execute_result",
          "data": {
            "text/plain": [
              "'\\nage = 30  # Dynamic variable, type is int at runtime\\nname = \"Alice\"  # Dynamic variable, type is str at runtime\\n\\ndef greet():\\n  message = \"Hello!\"  # Dynamic variable within a function\\n\\nage = \"Thirty\"  # You can reassign the same variable name with '"
            ],
            "application/vnd.google.colaboratory.intrinsic+json": {
              "type": "string"
            }
          },
          "metadata": {},
          "execution_count": 3
        }
      ]
    },
    {
      "cell_type": "code",
      "source": [
        "#(ii)Explain the purpose of \"pop\",\"popitem\",\"clear() in a dictionary with suitable examples\n",
        "\"\"\"pop :- Removes the element with the specified key from the dictionary and returns its value.\n",
        "\n",
        "examples of pop():-\n",
        "my_dict = {\"name\": \"Alice\", \"age\": 30, \"city\": \"New York\"}\n",
        "\n",
        "# Remove the element with key \"age\" and print its value\n",
        "removed_value = my_dict.pop(\"age\")\n",
        "print(removed_value)  # Output: 30\n",
        "\n",
        "# Remove the element with key \"country\" (not present) with a default value\n",
        "removed_value = my_dict.pop(\"country\", \"N/A\")\n",
        "print(removed_value)  # Output: N/A\n",
        "\n",
        "# Try removing a non-existent key without a default value (raises KeyError)\n",
        "# removed_value = my_dict.pop(\"job\")  # This will raise a KeyError\n",
        "\n",
        "popitem :- Removes and returns an arbitrary key-value pair from the dictionary.\n",
        "\n",
        "examples of popitem()\n",
        "my_dict = {\"name\": \"Alice\", \"age\": 30, \"city\": \"New York\"}\n",
        "\n",
        "# Remove and print an arbitrary key-value pair\n",
        "removed_pair = my_dict.popitem()\n",
        "print(removed_pair)  # Output: (random key, value) (e.g., (\"city\", \"New York\"))\n",
        "\n",
        "# Try removing a key-value pair from an empty dictionary (raises KeyError)\n",
        "# removed_pair = my_dict.popitem()  # This will raise a KeyError if my_dict is empty after the previous popitem() call\n",
        "\n",
        "clear :- Removes all elements from the dictionary.\n",
        "\n",
        "examples of clear()\n",
        "\n",
        "my_dict = {\"name\": \"Alice\", \"age\": 30, \"city\": \"New York\"}\n",
        "\n",
        "# Print the dictionary before clearing\n",
        "print(my_dict)  # Output: {\"name\": \"Alice\", \"age\": 30, \"city\": \"New York\"}\n",
        "\n",
        "# Remove all elements using clear()\n",
        "my_dict.clear()\n",
        "\n",
        "# Print the dictionary after clearing\n",
        "print(my_dict)  # Output: {} (empty dictionary)\"\"\""
      ],
      "metadata": {
        "colab": {
          "base_uri": "https://localhost:8080/",
          "height": 140
        },
        "id": "yZ8FhMmBXU3a",
        "outputId": "29229e77-40a0-4604-8a91-bdfe6f4d196f"
      },
      "execution_count": null,
      "outputs": [
        {
          "output_type": "execute_result",
          "data": {
            "text/plain": [
              "'pop :- Removes the element with the specified key from the dictionary and returns its value.\\n\\nexamples of pop():-\\nmy_dict = {\"name\": \"Alice\", \"age\": 30, \"city\": \"New York\"}\\n\\n# Remove the element with key \"age\" and print its value\\nremoved_value = my_dict.pop(\"age\")\\nprint(removed_value)  # Output: 30\\n\\n# Remove the element with key \"country\" (not present) with a default value\\nremoved_value = my_dict.pop(\"country\", \"N/A\")\\nprint(removed_value)  # Output: N/A\\n\\n# Try removing a non-existent key without a default value (raises KeyError)\\n# removed_value = my_dict.pop(\"job\")  # This will raise a KeyError\\n\\npopitem :- Removes and returns an arbitrary key-value pair from the dictionary.\\n\\nexamples of popitem()\\nmy_dict = {\"name\": \"Alice\", \"age\": 30, \"city\": \"New York\"}\\n\\n# Remove and print an arbitrary key-value pair\\nremoved_pair = my_dict.popitem()\\nprint(removed_pair)  # Output: (random key, value) (e.g., (\"city\", \"New York\"))\\n\\n# Try removing a key-value pair from an empty dictionary (raises KeyError)\\n# removed_pair = my_dict.popitem()  # This will raise a KeyError if my_dict is empty after the previous popitem() call\\n\\nclear :- Removes all elements from the dictionary.\\n\\nexamples of clear()\\n\\nmy_dict = {\"name\": \"Alice\", \"age\": 30, \"city\": \"New York\"}\\n\\n# Print the dictionary before clearing\\nprint(my_dict)  # Output: {\"name\": \"Alice\", \"age\": 30, \"city\": \"New York\"}\\n\\n# Remove all elements using clear()\\nmy_dict.clear()\\n\\n# Print the dictionary after clearing\\nprint(my_dict)  # Output: {} (empty dictionary)'"
            ],
            "application/vnd.google.colaboratory.intrinsic+json": {
              "type": "string"
            }
          },
          "metadata": {},
          "execution_count": 4
        }
      ]
    },
    {
      "cell_type": "code",
      "source": [
        "#(iii)What do you mean by FrozenSet? Explain it with suitable examples.\n",
        "\"\"\"\n",
        "In Python, a FrozenSet is an immutable version of a set. It's a collection of unique elements just like a regular set, but once created, its elements cannot be added, removed, or modified. This immutability makes FrozenSets useful for situations where you need a data structure that guarantees data integrity and cannot be accidentally changed.\n",
        "\n",
        "example of frozen set\n",
        "\n",
        "my_set = {1, 2, 3, 2}  # Regular set (mutable)\n",
        "frozen_set = frozenset(my_set)  # FrozenSet created from a set\"\"\""
      ],
      "metadata": {
        "colab": {
          "base_uri": "https://localhost:8080/",
          "height": 87
        },
        "id": "NSa_BjqoXU50",
        "outputId": "5f09b806-3546-41a6-d3dd-fdc965470a21"
      },
      "execution_count": null,
      "outputs": [
        {
          "output_type": "execute_result",
          "data": {
            "text/plain": [
              "\"\\nIn Python, a FrozenSet is an immutable version of a set. It's a collection of unique elements just like a regular set, but once created, its elements cannot be added, removed, or modified. This immutability makes FrozenSets useful for situations where you need a data structure that guarantees data integrity and cannot be accidentally changed.\\n\\nexample of frozen set\\n\\nmy_set = {1, 2, 3, 2}  # Regular set (mutable)\\nfrozen_set = frozenset(my_set)  # FrozenSet created from a set\""
            ],
            "application/vnd.google.colaboratory.intrinsic+json": {
              "type": "string"
            }
          },
          "metadata": {},
          "execution_count": 5
        }
      ]
    },
    {
      "cell_type": "code",
      "source": [
        "#(iv)Differentiate between mutable and immutable data types in Python and give examples of mutable and immutable data types.\n",
        "\"\"\"\n",
        "mutable_datatypes :-- these datatypes are kind of datatypes which allows you to modify the elements into the datatypes itself\n",
        "\n",
        "for example:- l = [1,2,3,4,5]  , given dataypes is a  list\n",
        "             l[0] = 100\n",
        "\n",
        "immutable_datatypes :-- these datatypes doesnt you to allow making modification into the datatype itself.\n",
        "\n",
        "for examples :- l1 = [1,2,3,4,5] , given datatype is a tupple\n",
        "                l1[0] = 100\n",
        "\n",
        "\"\"\""
      ],
      "metadata": {
        "colab": {
          "base_uri": "https://localhost:8080/",
          "height": 70
        },
        "id": "r0U0CndTXU8k",
        "outputId": "6256f264-0b3b-4442-8194-c48da420f693"
      },
      "execution_count": null,
      "outputs": [
        {
          "output_type": "execute_result",
          "data": {
            "text/plain": [
              "'\\nmutable_datatypes :-- these datatypes are kind of datatypes which allows you to modify the elements into the datatypes itself\\n\\nfor example:- l = [1,2,3,4,5]  , given dataypes is a  list\\n             l[0] = 100\\n\\nimmutable_datatypes :-- these datatypes doesnt you to allow making modification into the datatype itself.\\n            \\nfor examples :- l1 = [1,2,3,4,5] , given datatype is a tupple\\n                l1[0] = 100\\n              \\n'"
            ],
            "application/vnd.google.colaboratory.intrinsic+json": {
              "type": "string"
            }
          },
          "metadata": {},
          "execution_count": 6
        }
      ]
    },
    {
      "cell_type": "code",
      "source": [
        "#(v)What is __init__?Explain with an example\n",
        "\"\"\"The __init__ method, also known as a constructor, is a special method in Python used to initialize objects of a class. It's automatically called when you create a new instance of the class\"\"\"\n",
        "\n",
        "class Person:\n",
        "  def __init__(self, name, age):  # The __init__ method with arguments\n",
        "    self.name = name\n",
        "    self.age = age\n",
        "\n",
        "  def greet(self):  # A regular method to access attributes\n",
        "    print(f\"Hello, my name is {self.name} and I am {self.age} years old.\")\n",
        "\n",
        "# Create objects (instances) of the Person class\n",
        "person1 = Person(\"Alice\", 30)\n",
        "person2 = Person(\"Bob\", 25)\n",
        "\n",
        "person1.greet()  # Output: Hello, my name is Alice and I am 30 years old.\n",
        "person2.greet()  # Output: Hello, my name is Bob and I am 25 years old."
      ],
      "metadata": {
        "colab": {
          "base_uri": "https://localhost:8080/"
        },
        "id": "zKptoBWqXU_K",
        "outputId": "b51ba712-ed72-4be9-c505-999181d16594"
      },
      "execution_count": null,
      "outputs": [
        {
          "output_type": "stream",
          "name": "stdout",
          "text": [
            "Hello, my name is Alice and I am 30 years old.\n",
            "Hello, my name is Bob and I am 25 years old.\n"
          ]
        }
      ]
    },
    {
      "cell_type": "code",
      "source": [
        "# (vi)What is docstring in Python?Explain with an example.\n",
        "\n",
        "\"\"\"Docstrings in Python are string literals that provide documentation for various parts of your code, including modules, functions, classes, and methods. They serve as comments that explain the purpose, usage, and behavior of these code elements.\"\"\"\n",
        "\n",
        "# for examples:--\n",
        "def greet(name):\n",
        "  \"\"\"\n",
        "  This function greets the user by name.\n",
        "\n",
        "  Args:\n",
        "      name (str): The name of the person to greet.\n",
        "\n",
        "  Returns:\n",
        "      str: A greeting message personalized with the provided name.\n",
        "  \"\"\"\n",
        "  return f\"Hello, {name}!\"\n",
        "\n",
        "# Calling the function with a name\n",
        "greeting_message = greet(\"Alice\")\n",
        "print(greeting_message)  # Output: Hello, Alice!\"\"\""
      ],
      "metadata": {
        "colab": {
          "base_uri": "https://localhost:8080/"
        },
        "id": "hJPs08kBXVD0",
        "outputId": "346f97c9-0dc9-48fc-b846-0ddff84fa49d"
      },
      "execution_count": null,
      "outputs": [
        {
          "output_type": "stream",
          "name": "stdout",
          "text": [
            "Hello, Alice!\n"
          ]
        }
      ]
    },
    {
      "cell_type": "code",
      "source": [
        "#(vii)What are unit tests in Python\n",
        "\"\"\"Unit testing in Python is a software development practice where you write small, focused pieces of code to verify the correctness of individual units of your program. These units are typically functions, methods, or small classes.  Unit tests help ensure that your code functions as expected under various conditions, improving code reliability and maintainabilit\"\"\""
      ],
      "metadata": {
        "colab": {
          "base_uri": "https://localhost:8080/",
          "height": 70
        },
        "id": "WOSNAuo7XVGw",
        "outputId": "46632cfd-099f-447c-8359-8f1f82f124b7"
      },
      "execution_count": null,
      "outputs": [
        {
          "output_type": "execute_result",
          "data": {
            "text/plain": [
              "'Unit testing in Python is a software development practice where you write small, focused pieces of code to verify the correctness of individual units of your program. These units are typically functions, methods, or small classes.  Unit tests help ensure that your code functions as expected under various conditions, improving code reliability and maintainabilit'"
            ],
            "application/vnd.google.colaboratory.intrinsic+json": {
              "type": "string"
            }
          },
          "metadata": {},
          "execution_count": 11
        }
      ]
    },
    {
      "cell_type": "code",
      "source": [
        "#(viii)What is break, continue and pass in Python\n",
        "\"\"\"\n",
        "break :-- Exits the enclosing loop prematurely, regardless of the loop condition. Once break is executed, control jumps to the statement after the loop.\n",
        "\"\"\"\n",
        "# for example\n",
        "for i in range(1, 11):\n",
        "  if i == 5:\n",
        "    print(f\"Reached number {i}, breaking the loop.\")\n",
        "    break\n",
        "  print(i)\n",
        "\n",
        "\"\"\"\n",
        "continue:--- Skips the remaining part of the current iteration in a loop and jumps to the beginning of the next iteration. The loop condition is still evaluated for the next iteration.\n",
        "\"\"\"\n",
        "# for examples\n",
        "for j in range(1, 6):\n",
        "  if j % 2 == 0:  # Skip even numbers\n",
        "    continue\n",
        "  print(f\"Printing odd numbers: {j}\")\n",
        "\n",
        "\"\"\"\n",
        "pass :-- Acts as a placeholder within a code block. It essentially does nothing but maintains the program's syntax. It's often used when a statement is\n",
        "\"\"\"\n",
        "# for example\n",
        "def greet(name):\n",
        "  if name:\n",
        "    print(f\"Hello, {name}!\")\n",
        "  else:\n",
        "    pass  # Placeholder if no name is provided\n",
        "\n",
        "greet(\"Alice\")  # Output: Hello, Alice!\n",
        "greet(\"\")        # Output: (no output as name is empty, pass does nothing)"
      ],
      "metadata": {
        "colab": {
          "base_uri": "https://localhost:8080/"
        },
        "id": "K2o_LiCiXVJ5",
        "outputId": "1521f130-259b-46b5-86f2-61df3823c3a0"
      },
      "execution_count": null,
      "outputs": [
        {
          "output_type": "stream",
          "name": "stdout",
          "text": [
            "1\n",
            "2\n",
            "3\n",
            "4\n",
            "Reached number 5, breaking the loop.\n",
            "Printing odd numbers: 1\n",
            "Printing odd numbers: 3\n",
            "Printing odd numbers: 5\n",
            "Hello, Alice!\n"
          ]
        }
      ]
    },
    {
      "cell_type": "code",
      "source": [
        "#(ix)What is the use of self in Python\n",
        "\"\"\"\n",
        "self :-- it is a keyword used as an argument in object- oreinted-programming which attach the attriibutes,methods to the class.\n",
        "\"\"\"\n",
        "# for example\n",
        "class student:\n",
        "  def __init__(self,a,b):\n",
        "    self.a = a\n",
        "    self.b = b\n",
        "\n",
        "  def student_name(self):\n",
        "    print(self.a)\n"
      ],
      "metadata": {
        "id": "CEQ_f6huXVMK"
      },
      "execution_count": null,
      "outputs": []
    },
    {
      "cell_type": "code",
      "source": [
        "#(x)What are global, protected and private attributes in Python\n",
        "\"\"\"\n",
        "global attribute :-- Defined outside of any class or function.\n",
        "Accessible from anywhere in the code, including within classes and functions.\n",
        "Drawbacks: Can lead to naming conflicts and make code harder to maintain as their usage becomes widespread throughout the program.\n",
        "\"\"\"\n",
        "# for examples\n",
        "# Global variable (not recommended for most cases)\n",
        "global_message = \"Hello from the global scope\"\n",
        "\n",
        "def greet():\n",
        "  print(global_message)\n",
        "\n",
        "greet()  # Output: Hello from the global scope\n",
        "\n",
        "\"\"\"\n",
        "private_attributes:-- Defined within a class with a double underscore prefix (__) before their name (e.g., __private_attribute).\n",
        "This naming convention indicates that these attributes are intended for internal use within the class and should not be directly accessed from outside.\n",
        "Python doesn't enforce strict privacy, but the double underscore prefix discourages accidental modification from outside the class and encourages encapsulation.\n",
        "\"\"\"\n",
        "# for examples\n",
        "class Person:\n",
        "  def __init__(self, name, age):\n",
        "    self.__internal_id = 100  # Private attribute\n",
        "    self.name = name\n",
        "    self.age = age\n",
        "\n",
        "  def get_internal_id(self):  # Method to access the private attribute (if needed)\n",
        "    return self.__internal_id\n",
        "\n",
        "# Person object creation\n",
        "person1 = Person(\"Alice\", 30)\n",
        "\n",
        "# Direct access to private attribute (not recommended)\n",
        "# print(person1.__internal_id)  # This might not work as expected\n",
        "\n",
        "# Accessing private attribute through a getter method (preferred)\n",
        "internal_id = person1.get_internal_id()\n",
        "print(internal_id)  # Output: 100\n",
        "\n",
        "\"\"\"\n",
        "protected_attribute:-- Defined within a class with a single underscore prefix (_) before their name (e.g., _protected_attribute).\n",
        "This naming convention suggests that these attributes are intended for use by the class itself and its subclasses, but not directly from outside the class hierarchy.\n",
        "Similar to private attributes, the underscore prefix discourages unintended modification but doesn't strictly enforce protection.\n",
        "\"\"\"\n",
        "# for examples\n",
        "class Animal:\n",
        "  def __init__(self, species):\n",
        "    self._species = species\n",
        "\n",
        "class Dog(Animal):\n",
        "  def __init__(self, species, breed):\n",
        "    super().__init__(species)  # Call parent class constructor\n",
        "    self.breed = breed\n",
        "\n",
        "  def speak(self):\n",
        "    print(f\"A {self._species} ({self.breed}) says woof!\")\n",
        "\n",
        "# Creating objects\n",
        "animal = Animal(\"cat\")  # Might not be ideal to create an Animal object directly\n",
        "dog1 = Dog(\"dog\", \"Golden Retriever\")\n",
        "\n",
        "dog1.speak()  # Output: A dog (Golden Retriever) says woof!\n",
        "\n",
        "# Accessing protected attribute from outside the hierarchy (not recommended)\n",
        "# print(animal._species)  # This might not be desirable"
      ],
      "metadata": {
        "colab": {
          "base_uri": "https://localhost:8080/"
        },
        "id": "Us8tLuYvXVOs",
        "outputId": "27ec4f21-e235-4969-cd7e-b5dab16f02cf"
      },
      "execution_count": null,
      "outputs": [
        {
          "output_type": "stream",
          "name": "stdout",
          "text": [
            "Hello from the global scope\n",
            "100\n",
            "A dog (Golden Retriever) says woof!\n"
          ]
        }
      ]
    },
    {
      "cell_type": "code",
      "source": [
        "#(xi)What are modules and packages in Python\n",
        "\"\"\"\n",
        "modules:-- modules and packages are fundamental ways to organize and structure your code.\n",
        "why modules:--They help you break down complex programs into smaller, reusable units, promoting modularity and maintainability.\n",
        "essential_points:--\n",
        "Modules allow you to group related functionalities together, making your code more organized and easier to understand.\n",
        "You can import modules into other Python files to use the defined functions, classes, and variables.\n",
        "\"\"\"\n",
        "# for examples:-\n",
        "class math_utils:\n",
        "  def __init__(self,x,y):\n",
        "    self.x =x\n",
        "    self.y = y\n",
        "\n",
        "  def add(x, y):\n",
        "     return x + y\n",
        "\n",
        "  def subtract(x, y):\n",
        "     return x - y\n",
        "\n",
        "\"\"\"\n",
        "packages:-- group of modules present into the same class with a more structured manner ,maintainable,flexiible\n",
        "esesential_points:--\n",
        "-->A package is a directory hierarchy that contains multiple modules and potentially sub-packages.\n",
        "-->It provides a way to organize your code into a more structured and scalable manner, especially for larger projects.\n",
        "-->A package needs an empty __init__.py file within the directory to be recognized as a package.\n",
        "\"\"\"\n",
        "# for examples:--\n",
        "\n",
        "class maths_things:\n",
        "  class math_utils_1:\n",
        "    def __init__(self,x,y):\n",
        "      self.x =x\n",
        "      self.y = y\n",
        "\n",
        "    def add(x, y):\n",
        "       return x + y\n",
        "\n",
        "    def subtract(x, y):\n",
        "       return x - y\n",
        "\n",
        "  class math_utils_2:\n",
        "    def __init__(self,x,y):\n",
        "      self.x =x\n",
        "      self.y = y\n",
        "\n",
        "    def add(x, y):\n",
        "       return x + y\n",
        "\n",
        "    def subtract(x, y):\n",
        "       return x - y"
      ],
      "metadata": {
        "id": "8UKnVhr-XVRn"
      },
      "execution_count": null,
      "outputs": []
    },
    {
      "cell_type": "code",
      "source": [
        "#(xii)What are lists and tuples? What is the key difference between the two\n",
        "\"\"\"\n",
        "lists and tupples:-- these are the datatypes for which they store the collection of items\n",
        "\n",
        "key differene :-- they differs with each other with the  concept of mutability means list is mutable alongside tupple is not\n",
        "\"\"\"\n",
        "# for examples\n",
        "\"\"\"\n",
        "l = [1,2,3,4,5]\n",
        "l[0] = 100\n",
        "l1 = (1,2,3,4,5)\n",
        "l1[0] = 1000\n",
        "\"\"\""
      ],
      "metadata": {
        "colab": {
          "base_uri": "https://localhost:8080/",
          "height": 35
        },
        "id": "Nkfoapz3lmRX",
        "outputId": "55168681-67bf-4c86-8229-817bdff97733"
      },
      "execution_count": null,
      "outputs": [
        {
          "output_type": "execute_result",
          "data": {
            "text/plain": [
              "'\\nl = [1,2,3,4,5]\\nl[0] = 100\\nl1 = (1,2,3,4,5)\\nl1[0] = 1000\\n'"
            ],
            "application/vnd.google.colaboratory.intrinsic+json": {
              "type": "string"
            }
          },
          "metadata": {},
          "execution_count": 1
        }
      ]
    },
    {
      "cell_type": "code",
      "source": [
        "# (xiii)What is an Interpreted language & dynamically typed language?Write 5 differences between them8\n",
        "\"\"\"\n",
        "--> interpreted language :--Execution Model: Interpreted languages are executed line by line at runtime. An interpreter program reads, translates, and executes each line of code sequentially. This makes them generally faster to develop in, as there's no separate compilation step.\n",
        "for ex: Python, JavaScript, Ruby, PHP, BASIC\n",
        "--> dynamically language:- Type Checking: Dynamically typed languages perform type checking at runtime, meaning the data type of a variable is determined when the code is executed, not when it's written. This can offer greater flexibility but also introduces the possibility of runtime errors if incorrect data types are used.\n",
        "Example Languages: Python, JavaScript, Ruby, PHP, Perl, Lua\n",
        "\n",
        "key differences:--\n",
        "Execution Model\n",
        "Type Checking\n",
        "Development Speed\n",
        "Error Detection\n",
        "Flexibility\n",
        "\"\"\""
      ],
      "metadata": {
        "colab": {
          "base_uri": "https://localhost:8080/",
          "height": 122
        },
        "id": "pIqwMs11lmT8",
        "outputId": "318b299f-590a-4bf2-a759-cb3ca1ec1d01"
      },
      "execution_count": null,
      "outputs": [
        {
          "output_type": "execute_result",
          "data": {
            "text/plain": [
              "\"\\n--> interpreted language :--Execution Model: Interpreted languages are executed line by line at runtime. An interpreter program reads, translates, and executes each line of code sequentially. This makes them generally faster to develop in, as there's no separate compilation step.\\nfor ex: Python, JavaScript, Ruby, PHP, BASIC\\n--> dynamically language:- Type Checking: Dynamically typed languages perform type checking at runtime, meaning the data type of a variable is determined when the code is executed, not when it's written. This can offer greater flexibility but also introduces the possibility of runtime errors if incorrect data types are used.\\nExample Languages: Python, JavaScript, Ruby, PHP, Perl, Lua\\n\\nkey differences:--\\nExecution Model\\nType Checking\\nDevelopment Speed\\nError Detection\\nFlexibility\\n\""
            ],
            "application/vnd.google.colaboratory.intrinsic+json": {
              "type": "string"
            }
          },
          "metadata": {},
          "execution_count": 2
        }
      ]
    },
    {
      "cell_type": "code",
      "source": [
        "#(xiv)What are Dict and List comprehensions\n",
        "\"\"\"\n",
        "list comprehension :--  Create a new list based on an existing iterable (like a list, tuple, or string\n",
        "examples: new_list = [expression for item in iterable if condition]\n",
        "sictionary comprehension:-  Create a new dictionary based on an existing iterable.\n",
        "examples :-new_dict = {key_expression: value_expression for item in iterable if condition}\n",
        "\"\"\""
      ],
      "metadata": {
        "colab": {
          "base_uri": "https://localhost:8080/",
          "height": 70
        },
        "id": "xZOOg9xGlmWP",
        "outputId": "487fc756-3bf5-4329-9faf-cd54ca92608c"
      },
      "execution_count": null,
      "outputs": [
        {
          "output_type": "execute_result",
          "data": {
            "text/plain": [
              "'\\nlist comprehension :--  Create a new list based on an existing iterable (like a list, tuple, or string\\nexamples: new_list = [expression for item in iterable if condition]\\nsictionary comprehension:-  Create a new dictionary based on an existing iterable.\\nexamples :-new_dict = {key_expression: value_expression for item in iterable if condition}\\n'"
            ],
            "application/vnd.google.colaboratory.intrinsic+json": {
              "type": "string"
            }
          },
          "metadata": {},
          "execution_count": 3
        }
      ]
    },
    {
      "cell_type": "code",
      "source": [
        "# (xv)What are decorators in Python? Explain it with an example.Write down its use cases\n",
        "\"\"\"\n",
        "decorators: these are design pattern in which the function wraps up the another function with additional functionality into it.\n",
        "\n",
        "\"\"\"\n",
        "def timer(func):\n",
        "  \"\"\"Decorator that times the execution of a function.\"\"\"\n",
        "  import time\n",
        "\n",
        "  def wrapper(*args, **kwargs):\n",
        "    start_time = time.perf_counter()\n",
        "    result = func(*args, **kwargs)\n",
        "    end_time = time.perf_counter()\n",
        "    elapsed_time = end_time - start_time\n",
        "    print(f\"Function '{func.__name__!r}' executed in {elapsed_time:.4f} seconds.\")\n",
        "    return result\n",
        "\n",
        "  return wrapper\n",
        "\n",
        "@timer\n",
        "def my_function(n):\n",
        "  \"\"\"Dummy function for demonstration.\"\"\"\n",
        "  # Simulate some work\n",
        "  for i in range(n * 1000000):\n",
        "    pass\n",
        "\n",
        "# Call the decorated function\n",
        "my_function(3)\n",
        "\n",
        "# use cases\n",
        "# 1. Logging, 2. Authentication/Authorization, 3. Caching, 4. Error Handling, 5. Transaction Management, 6. Aspect-Oriented Programming (AOP)"
      ],
      "metadata": {
        "colab": {
          "base_uri": "https://localhost:8080/"
        },
        "id": "x59LBWyelmYw",
        "outputId": "25d24fef-c1b8-499e-ceaf-3ffe95c6349f"
      },
      "execution_count": null,
      "outputs": [
        {
          "output_type": "stream",
          "name": "stdout",
          "text": [
            "Function ''my_function'' executed in 0.0838 seconds.\n"
          ]
        }
      ]
    },
    {
      "cell_type": "code",
      "source": [
        "# (xvi)How is memory managed in Python\n",
        "\"\"\"\n",
        "\n",
        "In Python, memory management is designed to be automatic, freeing you from the burden of manually allocating and deallocating memory.\n",
        "\n",
        "1.private heap:--\n",
        "Imagine a shopping mall specifically for Python objects. This private heap space in memory is separate from the system's main memory and managed by the Python interpreter.\n",
        "Real-world Example: When you create a list to store your grocery shopping list ([\"apples\", \"bread\", \"milk\"]), memory for these string objects is allocated from the private heap.\n",
        "\n",
        "2.3. Reference Counting (Primary Mechanism):\n",
        "\n",
        "Think of reference counting as a popularity contest for objects in memory. Each object has a reference count that tracks the number of variables (references) pointing to it.\n",
        "Real-world Example: In your grocery list, if you create another variable shopping_reminder = [\"apples\", \"bread\", \"milk\"], both shopping_list and shopping_reminder reference the same objects in memory. So, the reference count for each string object increases to 2.\n",
        "When a reference count reaches zero (no more references exist), it signifies that the object is no longer being used.\n",
        "\n",
        "4. Garbage Collector (Secondary Mechanism):\n",
        "\n",
        "Imagine a cleaning crew in the shopping mall. The garbage collector periodically scans the heap for objects with a reference count of zero that haven't been accessed in a while. These objects are considered garbage and are reclaimed by the garbage collector.\n",
        "Real-world Example: In the grocery list scenario, if you finish shopping and no longer need the lists, both shopping_list and shopping_reminder go out of scope (no longer referenced). The reference count for the string objects (\"apples\", \"bread\", \"milk\") eventually becomes 0, and the garbage collector reclaims the memory they occupied.\n",
        "\n",
        "5. Memory Management Limitations:\n",
        "\n",
        "While reference counting is efficient for many cases, it can't handle circular references where two or more objects hold references to each other, creating a cycle that keeps the reference count from reaching zero.\n",
        "Real-world Example: Imagine a scenario where you have two variables, student and course, where student.enrolled_course = course and course.enrolled_student = student. This creates a circular reference, and the garbage collector might not reclaim their memory even if you don't need them anymore.\n",
        "\n",
        "\n",
        "\"\"\""
      ],
      "metadata": {
        "id": "BPJWUhGplmbR"
      },
      "execution_count": null,
      "outputs": []
    },
    {
      "cell_type": "code",
      "source": [
        "#(xvii)What is lambda in Python? Why is it used\n",
        "\"\"\"\n",
        "In Python, a lambda function (often shortened to lambda) is a concise way to define an anonymous function. It's a small, self-contained function object that can be created without using the def\n",
        "\n",
        "for examples:- lambda arguments: expression\n",
        "\n",
        "Why Use Lambdas?\n",
        "\n",
        "Conciseness: Lambdas excel when you need a small, throwaway function for a simple task. They can make your code more compact and readable in certain situations.\n",
        "Callbacks: Lambdas are frequently used as callback functions in higher-order functions (functions that take other functions as arguments or return functions). For example, built-in functions like map(), filter(), and sorted() often use lambdas to define the logic to be applied to elements.\n",
        "Inline Functions: Sometimes, you might need a function for a very specific purpose within a larger expression. Lambdas can be useful for defining such inline functions that are only used once.\n",
        "\"\"\""
      ],
      "metadata": {
        "colab": {
          "base_uri": "https://localhost:8080/",
          "height": 122
        },
        "id": "MdusTZKslmd4",
        "outputId": "00473c92-d0ed-4af0-b0b1-5eb99042f405"
      },
      "execution_count": null,
      "outputs": [
        {
          "output_type": "execute_result",
          "data": {
            "text/plain": [
              "\"\\nIn Python, a lambda function (often shortened to lambda) is a concise way to define an anonymous function. It's a small, self-contained function object that can be created without using the def\\n\\nfor examples:- lambda arguments: expression\\n\\nWhy Use Lambdas?\\n\\nConciseness: Lambdas excel when you need a small, throwaway function for a simple task. They can make your code more compact and readable in certain situations.\\nCallbacks: Lambdas are frequently used as callback functions in higher-order functions (functions that take other functions as arguments or return functions). For example, built-in functions like map(), filter(), and sorted() often use lambdas to define the logic to be applied to elements.\\nInline Functions: Sometimes, you might need a function for a very specific purpose within a larger expression. Lambdas can be useful for defining such inline functions that are only used once.\\n\""
            ],
            "application/vnd.google.colaboratory.intrinsic+json": {
              "type": "string"
            }
          },
          "metadata": {},
          "execution_count": 6
        }
      ]
    },
    {
      "cell_type": "code",
      "source": [
        "#(xviii) Explain split() and join() functions in Python\n",
        "\"\"\"\n",
        "split() :-- splits a string into a list of substrings based on a specified delimiter (separator).\n",
        "for examples:- string.split(sep, maxsplit=n)\n",
        "\n",
        "join():-- Joins the elements of an iterable (like a list) into a single string, inserting a separator between each element.\n",
        "\n",
        "for examples:- sep.join(iterable)\n",
        "\"\"\""
      ],
      "metadata": {
        "colab": {
          "base_uri": "https://localhost:8080/",
          "height": 53
        },
        "id": "b_5Q7_Solmgw",
        "outputId": "00117aac-958b-4b49-fe7c-72df3f198725"
      },
      "execution_count": null,
      "outputs": [
        {
          "output_type": "execute_result",
          "data": {
            "text/plain": [
              "'\\nsplit() :-- splits a string into a list of substrings based on a specified delimiter (separator).\\nfor examples:- string.split(sep, maxsplit=n)\\n\\njoin():-- Joins the elements of an iterable (like a list) into a single string, inserting a separator between each element.\\n\\nfor examples:- sep.join(iterable) \\n'"
            ],
            "application/vnd.google.colaboratory.intrinsic+json": {
              "type": "string"
            }
          },
          "metadata": {},
          "execution_count": 7
        }
      ]
    },
    {
      "cell_type": "code",
      "source": [
        "# (xviv) What are iterators , iterable & generators in Python\n",
        "\"\"\"\n",
        "1. Iterators:\n",
        "\n",
        "Concept: An iterator is an object that represents a stream of items and allows you to access them one at a time in a sequential order. It's like a special pointer that keeps track of its current position within the sequence.\n",
        "Functionality: Iterators provide a way to efficiently process elements without loading the entire sequence into memory at once. This is particularly useful for large datasets.\n",
        "Methods: Iterators typically implement the __next__() method, which raises a StopIteration\n",
        "\n",
        "2. Iterables:\n",
        "\n",
        "Concept: An iterable is an object that can be used to create an iterator. It's essentially a collection or sequence that can be looped over.\n",
        "Examples: Common iterables in Python include lists, tuples, strings, dictionaries (for keys), sets, and custom classes that implement the __iter__() method.\n",
        "Functionality: You can't directly access elements of an iterable using indexing like a list. However, you can use them in for loops, which internally create an iterator and iterate over the elements.\n",
        "\n",
        "3. Generators:\n",
        "\n",
        "Concept: A generator is a special type of function that returns an iterator object. It generates elements on demand, one at a time, instead of creating a whole list upfront.\n",
        "Functionality: Generators are memory-efficient for large datasets as they don't hold the entire sequence in memory at once. They yield values using the yield keyword, pausing execution and returning the yielded value. The generator resumes execution when next() is called on the iterator it creates.\n",
        "Benefits:\n",
        "Memory efficiency\n",
        "Can be used for infinite sequences (e.g., generating prime numbers)\n",
        "\n",
        "\"\"\"\n",
        "# for examples:-\n",
        "# examples-- 1\n",
        "words = [\"This\", \"is\", \"a\", \"sentence\"]\n",
        "\n",
        "# Joining with a space (default)\n",
        "joined_sentence = \" \".join(words)\n",
        "print(joined_sentence)  # Output: This is a sentence\n",
        "\n",
        "# Joining with a hyphen (-)\n",
        "hyphenated_sentence = \"-\".join(words)\n",
        "print(hyphenated_sentence)  # Output: This-is-a-sentence\n",
        "\n",
        "# examples--2\n",
        "numbers = [1, 2, 3, 4, 5]\n",
        "iterator = iter(numbers)  # Create an iterator from the list\n",
        "\n",
        "# Accessing elements one by one using next()\n",
        "print(next(iterator))  # Output: 1\n",
        "print(next(iterator))  # Output: 2\n",
        "print(next(iterator))  # Output: 3\n",
        "# ... and so on\n",
        "\n",
        "# examples--3\n",
        "fruits = (\"apple\", \"banana\", \"orange\")  # Tuple is an iterable\n",
        "\n",
        "# Using a for loop to iterate over the iterable\n",
        "for fruit in fruits:\n",
        "  print(fruit)  # Output: apple, banana, orange"
      ],
      "metadata": {
        "colab": {
          "base_uri": "https://localhost:8080/"
        },
        "id": "KhO1d4kqlmi1",
        "outputId": "2398b48c-3283-48cb-81e9-60be642d1ff9"
      },
      "execution_count": null,
      "outputs": [
        {
          "output_type": "stream",
          "name": "stdout",
          "text": [
            "This is a sentence\n",
            "This-is-a-sentence\n",
            "1\n",
            "2\n",
            "3\n",
            "apple\n",
            "banana\n",
            "orange\n"
          ]
        }
      ]
    },
    {
      "cell_type": "code",
      "source": [
        "#(xvv)What is the difference between xrange and range in Python\n",
        "\"\"\"\n",
        "The key difference between xrange and range in Python lies in their behavior and memory usage:\n",
        "\n",
        "xrange (Python 2 only):\n",
        "\n",
        "Purpose: It was a function that generated an immutable sequence of numbers within a specified range.\n",
        "Behavior: xrange created a lightweight object representing the range, not an actual list of numbers in memory. It evaluated the numbers on demand when iterated over using a for loop.\n",
        "Memory Efficiency: xrange was more memory-efficient than range, especially for large ranges, as it didn't store all the numbers upfront.\n",
        "Drawbacks:\n",
        "xrange objects couldn't be sliced or indexed directly like lists.\n",
        "Not directly usable in some arithmetic operations like + or -.\n",
        "It has been deprecated in Python 3.\n",
        "range (Python 2 and 3):\n",
        "\n",
        "Purpose: In Python 2, range functioned similarly to xrange (generating the sequence on demand). In Python 3, range itself behaves like the old xrange.\n",
        "Behavior: In Python 3, range creates an immutable sequence object similar to xrange in Python 2. It generates numbers on demand during iteration.\n",
        "Memory Efficiency: In Python 3, range offers the same memory efficiency as xrange in Python 2.\n",
        "Usability: range objects can be sliced and used in arithmetic operations, unlike xrange objects.\n",
        "Choosing Between range and xrange (Python 2):\n",
        "\n",
        "If you needed memory efficiency for large ranges and didn't require slicing or arithmetic operations, xrange was preferred.\n",
        "However, if you needed those functionalities, you had to convert xrange to a list using list(xrange(start, stop, step)).\n",
        "\n",
        "\"\"\""
      ],
      "metadata": {
        "colab": {
          "base_uri": "https://localhost:8080/",
          "height": 140
        },
        "id": "YdBIdl-NlmlK",
        "outputId": "6abc34b9-3444-4fd9-eaa0-80e6548ce288"
      },
      "execution_count": null,
      "outputs": [
        {
          "output_type": "execute_result",
          "data": {
            "text/plain": [
              "\"\\nThe key difference between xrange and range in Python lies in their behavior and memory usage:\\n\\nxrange (Python 2 only):\\n\\nPurpose: It was a function that generated an immutable sequence of numbers within a specified range.\\nBehavior: xrange created a lightweight object representing the range, not an actual list of numbers in memory. It evaluated the numbers on demand when iterated over using a for loop.\\nMemory Efficiency: xrange was more memory-efficient than range, especially for large ranges, as it didn't store all the numbers upfront.\\nDrawbacks:\\nxrange objects couldn't be sliced or indexed directly like lists.\\nNot directly usable in some arithmetic operations like + or -.\\nIt has been deprecated in Python 3.\\nrange (Python 2 and 3):\\n\\nPurpose: In Python 2, range functioned similarly to xrange (generating the sequence on demand). In Python 3, range itself behaves like the old xrange.\\nBehavior: In Python 3, range creates an immutable sequence object similar to xrange in Python 2. It generates numbers on demand during iteration.\\nMemory Efficiency: In Python 3, range offers the same memory efficiency as xrange in Python 2.\\nUsability: range objects can be sliced and used in arithmetic operations, unlike xrange objects.\\nChoosing Between range and xrange (Python 2):\\n\\nIf you needed memory efficiency for large ranges and didn't require slicing or arithmetic operations, xrange was preferred.\\nHowever, if you needed those functionalities, you had to convert xrange to a list using list(xrange(start, stop, step)).\\n\\n\""
            ],
            "application/vnd.google.colaboratory.intrinsic+json": {
              "type": "string"
            }
          },
          "metadata": {},
          "execution_count": 11
        }
      ]
    },
    {
      "cell_type": "code",
      "source": [
        "#(xvvi) pillars of oops.\n",
        "\"\"\"\n",
        "There are four main pillars of Object-Oriented Programming (OOP):\n",
        "\n",
        "Abstraction: This concept focuses on hiding the implementation details of an object and exposing only the essential functionality to the outside world. It allows users to interact with objects without needing to know how they work internally. Think of it as using a light switch - you don't need to understand the electrical wiring to turn on a light.\n",
        "\n",
        "Encapsulation: This principle involves bundling data (attributes) and methods (functions that operate on the data) together within a single unit called a class. Encapsulation promotes data protection by controlling access to the data through methods. Imagine a capsule containing medicine - the capsule acts as the class, protecting the medicine (data) inside.\n",
        "\n",
        "Inheritance: This allows new classes (subclasses) to inherit properties and behaviors from existing classes (parent classes). Subclasses can also add their own specific functionalities. This promotes code reusability and reduces redundancy. Think of biological inheritance - offspring inherit traits from their parents.\n",
        "\n",
        "Polymorphism: This concept allows objects of different classes to respond differently to the same method call. It enables flexible and dynamic behavior based on the object type at runtime.  Imagine a \"play\" method that works differently for different objects, like playing a song for a music player or starting a game for a video game console.\n",
        "\"\"\""
      ],
      "metadata": {
        "colab": {
          "base_uri": "https://localhost:8080/",
          "height": 140
        },
        "id": "TgqXdkeFlmnk",
        "outputId": "a3d002b4-e297-408c-e766-63850799f5cb"
      },
      "execution_count": null,
      "outputs": [
        {
          "output_type": "execute_result",
          "data": {
            "text/plain": [
              "'\\nThere are four main pillars of Object-Oriented Programming (OOP):\\n\\nAbstraction: This concept focuses on hiding the implementation details of an object and exposing only the essential functionality to the outside world. It allows users to interact with objects without needing to know how they work internally. Think of it as using a light switch - you don\\'t need to understand the electrical wiring to turn on a light.\\n\\nEncapsulation: This principle involves bundling data (attributes) and methods (functions that operate on the data) together within a single unit called a class. Encapsulation promotes data protection by controlling access to the data through methods. Imagine a capsule containing medicine - the capsule acts as the class, protecting the medicine (data) inside.\\n\\nInheritance: This allows new classes (subclasses) to inherit properties and behaviors from existing classes (parent classes). Subclasses can also add their own specific functionalities. This promotes code reusability and reduces redundancy. Think of biological inheritance - offspring inherit traits from their parents.\\n\\nPolymorphism: This concept allows objects of different classes to respond differently to the same method call. It enables flexible and dynamic behavior based on the object type at runtime.  Imagine a \"play\" method that works differently for different objects, like playing a song for a music player or starting a game for a video game console.\\n'"
            ],
            "application/vnd.google.colaboratory.intrinsic+json": {
              "type": "string"
            }
          },
          "metadata": {},
          "execution_count": 12
        }
      ]
    },
    {
      "cell_type": "code",
      "source": [
        "#(xvvii)How will you check if a class is a child of another class\n",
        "\"\"\"\n",
        "\n",
        "In Python, you can use the built-in function issubclass() to check if a class is a child (subclass) of another class\n",
        "\"\"\"\n",
        "\n",
        "\n",
        "def is_child(child_class, parent_class):\n",
        "  \"\"\"Checks if the child_class is a subclass of the parent_class.\"\"\"\n",
        "  return issubclass(child_class, parent_class)\n",
        "\n",
        "# Example usage\n",
        "class Animal:\n",
        "  pass\n",
        "\n",
        "class Dog(Animal):\n",
        "  pass\n",
        "\n",
        "class Cat:\n",
        "  pass\n",
        "\n",
        "print(is_child(Dog, Animal))  # Output: True (Dog inherits from Animal)\n",
        "print(is_child(Cat, Animal))   # Output: False (Cat doesn't inherit from Animal)"
      ],
      "metadata": {
        "colab": {
          "base_uri": "https://localhost:8080/"
        },
        "id": "u99qJ-h5lmqg",
        "outputId": "6aa6234b-8adf-477b-9b31-3cc61a15cc68"
      },
      "execution_count": null,
      "outputs": [
        {
          "output_type": "stream",
          "name": "stdout",
          "text": [
            "True\n",
            "False\n"
          ]
        }
      ]
    },
    {
      "cell_type": "code",
      "source": [
        "#(xvviii)How does inheritance work in python? Explain all types of inheritance with an example8\n",
        "\"\"\"\n",
        "\n",
        "\n",
        "\n",
        "Inheritance in Python is a powerful mechanism that allows you to create new classes (subclasses) that inherit properties and behaviors from existing classes (parent classes). This promotes code reusability, reduces redundancy, and helps organize your code in a hierarchical manner.\n",
        "\n",
        "Here's a breakdown of inheritance in Python with examples of different types:\n",
        "\n",
        "Single Inheritance:\n",
        "\n",
        "A subclass inherits from only one parent class.\n",
        "This is the most common and straightforward type of inheritance.\n",
        "\"\"\"\n",
        "class Animal:\n",
        "  def __init__(self, name):\n",
        "    self.name = name\n",
        "\n",
        "  def make_sound(self):\n",
        "    print(\"Generic animal sound\")\n",
        "\n",
        "class Dog(Animal):\n",
        "  def __init__(self, name, breed):\n",
        "    super().__init__(name)  # Call parent class constructor\n",
        "    self.breed = breed\n",
        "\n",
        "  def make_sound(self):\n",
        "    print(\"Woof!\")\n",
        "\n",
        "# Example usage\n",
        "my_dog = Dog(\"Buddy\", \"Labrador\")\n",
        "my_dog.make_sound()  # Output: Woof!\n",
        "print(my_dog.name)    # Output: Buddy (inherited from Animal)"
      ],
      "metadata": {
        "colab": {
          "base_uri": "https://localhost:8080/"
        },
        "id": "cDYxYmI9uzSm",
        "outputId": "8c1402fd-381d-4395-e675-d6c7ec2fb502"
      },
      "execution_count": null,
      "outputs": [
        {
          "output_type": "stream",
          "name": "stdout",
          "text": [
            "Woof!\n",
            "Buddy\n"
          ]
        }
      ]
    },
    {
      "cell_type": "code",
      "source": [
        "#(xvviV) What is encapsulation? Explain it with an example\n",
        "\"\"\"\n",
        "Imagine a capsule containing medicine. The capsule acts as the class, and the medicine inside represents the data (attributes) the class encapsulates. You can't directly interact with the medicine (data) unless you open the capsule (use a method).\n",
        "Encapsulation allows you to define access levels for your data:\n",
        "Public: Accessible from anywhere in the program.\n",
        "Private: Accessible only within the class itself (using double underscores before the attribute name).\n",
        "Protected: Accessible within the class and its subclasses (using a single underscore before the attribute name).\n",
        "\"\"\"\n",
        "class BankAccount:\n",
        "  def __init__(self, balance):  # Constructor (public method)\n",
        "    self.__balance = balance  # Private attribute (double underscores)\n",
        "\n",
        "  def deposit(self, amount):  # Public method\n",
        "    self.__balance += amount\n",
        "    print(f\"Deposited {amount}. New balance: ${self.__balance}\")\n",
        "\n",
        "  def get_balance(self):  # Public method (controlled access)\n",
        "    return self.__balance  # Returns a copy of the balance, not modifying the original\n",
        "\n",
        "# Example usage\n",
        "my_account = BankAccount(100)\n",
        "my_account.deposit(50)  # Public method can be used\n",
        "\n",
        "# Trying to access the private attribute directly results in an error\n",
        "# print(my_account.__balance)  # AttributeError: 'BankAccount' object has no attribute '__balance'\n",
        "\n",
        "print(my_account.get_balance())  # Public method provides controlled access: Output: 150"
      ],
      "metadata": {
        "colab": {
          "base_uri": "https://localhost:8080/"
        },
        "id": "116CELZPuzZ2",
        "outputId": "8b319336-20ef-4fbe-aef8-d6b3df477738"
      },
      "execution_count": null,
      "outputs": [
        {
          "output_type": "stream",
          "name": "stdout",
          "text": [
            "Deposited 50. New balance: $150\n",
            "150\n"
          ]
        }
      ]
    },
    {
      "cell_type": "code",
      "source": [
        "#(xvvV)What is polymorphism? Explain it with an example.\n",
        "\"\"\"\n",
        "\n",
        "Polymorphism in Python refers to the ability of objects of different classes to respond differently to the same method call. It allows for flexible and dynamic behavior based on the object type at runtime. This promotes code reusability and makes your code more adaptable.\n",
        "\n",
        "Here are two main concepts related to polymorphism in Python:\n",
        "\n",
        "Method Overriding:\n",
        "In inheritance, subclasses can redefine methods inherited from their parent class. This allows for specialized behavior specific to the subclass.\n",
        "When you call a method on an object, Python checks the object's class and executes the corresponding method definition from that class (either the one in the subclass or the inherited one from the parent class).\n",
        "Duck Typing:\n",
        "In Python, polymorphism is often achieved through duck typing, a concept that focuses on what an object can do (its methods) rather than its specific class.\n",
        "As long as an object has the required methods (responds to the \"duck call\"), it can be used in a certain context, regardless of its actual class.\n",
        "\"\"\"\n",
        "class Animal:\n",
        "  def make_sound(self):\n",
        "    print(\"Generic animal sound\")\n",
        "\n",
        "class Dog(Animal):\n",
        "  def make_sound(self):\n",
        "    print(\"Woof!\")\n",
        "\n",
        "class Cat(Animal):\n",
        "  def make_sound(self):\n",
        "    print(\"Meow!\")\n",
        "\n",
        "# Example usage\n",
        "animals = [Dog(), Cat()]\n",
        "for animal in animals:\n",
        "  animal.make_sound()  # Output: Woof! (for Dog), Meow! (for Cat)\n",
        "\n",
        "# Python dynamically calls the appropriate make_sound() method\n"
      ],
      "metadata": {
        "colab": {
          "base_uri": "https://localhost:8080/"
        },
        "id": "XdIMwyG0uzjp",
        "outputId": "42b868b3-4d74-40c2-cf0e-018a9ca7cddc"
      },
      "execution_count": null,
      "outputs": [
        {
          "output_type": "stream",
          "name": "stdout",
          "text": [
            "Woof!\n",
            "Meow!\n"
          ]
        }
      ]
    },
    {
      "cell_type": "code",
      "source": [
        "#Question-1.2 Which of the following identifier names are invalid and why?\n",
        "# Ans a,d,h valid options\n",
        "# some of them are also invalid option ,here some of them are invalid because of symbols,numbers,etc\n"
      ],
      "metadata": {
        "id": "l1VJvN_WtrSh"
      },
      "execution_count": null,
      "outputs": []
    },
    {
      "cell_type": "code",
      "source": [
        "#Question-1.3\n",
        "# name = [\"Mohan\", \"dash\", \"karam\", \"chandra\",\"gandhi\",\"Bapu\"]\n",
        "# do the following operations in this list;\n",
        "# a) add an element \"freedom_fighter\" in this list at the 0th index.\n",
        "# b) find the output of the following ,and explain how?\n",
        "\n",
        "# c) add two more elements in the name [\"NetaJi\",\"Bose\"] at the end of the list.\n",
        "# d) what will be the value of temp:\n",
        "# name = [\"Bapuji\", \"dash\", \"karam\", \"chandra\",\"gandi\",\"Mohan\"]\n",
        "# temp=name[-1]\n",
        "# name[-1]=name[0]\n",
        "# name[0]=temp\n",
        "# print(name)\n",
        "name = [\"Mohan\", \"dash\", \"karam\", \"chandra\",\"gandhi\",\"Bapu\"]\n",
        "name[0] = \"freedom_fighter\"\n",
        "length1=len((name[-len(name)+1:-1:2]))\n",
        "length2=len((name[-len(name)+1:-1]))\n",
        "print(length1+length2)\n",
        "name.append('Netaji')\n",
        "name.append('Bose')\n",
        "name\n",
        "name = [\"Bapuji\", \"dash\", \"karam\", \"chandra\",\"gandi\",\"Mohan\"]\n",
        "temp=name[-1]\n",
        "name[-1]=name[0]\n",
        "name[0]=temp\n",
        "print(name)"
      ],
      "metadata": {
        "colab": {
          "base_uri": "https://localhost:8080/"
        },
        "id": "eDrrQqhS09a6",
        "outputId": "82bac270-5c0c-46b8-b94e-f7711edc0982"
      },
      "execution_count": null,
      "outputs": [
        {
          "output_type": "stream",
          "name": "stdout",
          "text": [
            "6\n",
            "['Mohan', 'dash', 'karam', 'chandra', 'gandi', 'Bapuji']\n"
          ]
        }
      ]
    },
    {
      "cell_type": "code",
      "source": [
        "#Question-1.4\n",
        "\"\"\"\n",
        "Question 1.4.Find the output of the following.\n",
        "\"\"\"\n",
        "animal = ['Human','cat','mat','cat','rat','Human', 'Lion']\n",
        "print(animal.count('Human'))\n",
        "print(animal.index('rat'))\n",
        "print(len(animal))\n"
      ],
      "metadata": {
        "colab": {
          "base_uri": "https://localhost:8080/"
        },
        "id": "WDYSy-Dx09NI",
        "outputId": "2f8db387-99f7-407e-8f48-a2d9b6a33554"
      },
      "execution_count": null,
      "outputs": [
        {
          "output_type": "stream",
          "name": "stdout",
          "text": [
            "2\n",
            "4\n",
            "7\n"
          ]
        }
      ]
    },
    {
      "cell_type": "code",
      "source": [
        "# Question 1.5.\n",
        "tuple1=(10,20,\"Apple\",3.4,'a',[\"master\",\"ji\"],(\"sita\",\"geeta\",22),[{\"roll_no\": 1},{\"name\":\"Navneet\"}])\n",
        "print(len(tuple1))\n",
        "print(tuple1[-1][-1][\"name\"])\n",
        "print(tuple1[-3][1])\n",
        "#c)fetch the value of roll_no from this tuTle.\n",
        "tuple1[7][0]\n",
        "#e)fetch the element \"22\" from this tuple.\n",
        "tuple1[6][2]"
      ],
      "metadata": {
        "colab": {
          "base_uri": "https://localhost:8080/"
        },
        "id": "BCFDhAA508Pc",
        "outputId": "95a8709b-e0bd-400a-9411-9c1ad3e267f4"
      },
      "execution_count": null,
      "outputs": [
        {
          "output_type": "stream",
          "name": "stdout",
          "text": [
            "8\n",
            "Navneet\n",
            "ji\n"
          ]
        },
        {
          "output_type": "execute_result",
          "data": {
            "text/plain": [
              "22"
            ]
          },
          "metadata": {},
          "execution_count": 42
        }
      ]
    },
    {
      "cell_type": "code",
      "source": [
        "# 1.6. Write a program to display the appropriate message as per the color of signal(RED-Stop/Yellow-Stay/Green-Go) at the road crossing.\n",
        "class Zebra_Crossing:\n",
        "  def __init__(self):\n",
        "    self.color = str(input(\"enter the color\"))\n",
        "\n",
        "  def traffic_light(self,color):\n",
        "    if color == \"red\":\n",
        "      print(f\"please stop untill the signal will be yellow\")\n",
        "\n",
        "    elif color == \"yellow\":\n",
        "      print(f\"please put your speed of your vehicle around 40 to 60 km/hr\")\n",
        "\n",
        "    else:\n",
        "      print(f\"your can go with your own sake of speed\")\n",
        "\n",
        "tra = Zebra_Crossing()\n",
        "tra.traffic_light(\"red\")\n"
      ],
      "metadata": {
        "colab": {
          "base_uri": "https://localhost:8080/"
        },
        "id": "O23mMsokASDq",
        "outputId": "44b113e2-ed61-4e8f-dd61-81d2ec46798d"
      },
      "execution_count": null,
      "outputs": [
        {
          "output_type": "stream",
          "name": "stdout",
          "text": [
            "enter the colorred\n",
            "please stop untill the signal will be yellow\n"
          ]
        }
      ]
    },
    {
      "cell_type": "code",
      "source": [
        "# 1.7. Write a program to create a simple calculator performing only four basic operations(+,-,/,*) .\n",
        "class calculator:\n",
        "  def __init__(self,a,b):\n",
        "    self.a = a\n",
        "    self.b =b\n",
        "\n",
        "  def addition(self):\n",
        "    return (self.a + self.b)\n",
        "\n",
        "  def multiplication(self):\n",
        "    return (self.a * self.b)\n",
        "\n",
        "  def substraction(self):\n",
        "    return (self.a - self.b)\n",
        "\n",
        "  def division(self):\n",
        "    return (self.a / self.b)\n",
        "\n",
        "\n",
        "cal = calculator(50,25)\n",
        "cal.division()\n",
        "cal.addition()\n",
        "cal.multiplication()\n",
        "cal.substraction()\n"
      ],
      "metadata": {
        "colab": {
          "base_uri": "https://localhost:8080/"
        },
        "id": "uzlWuUKc08NP",
        "outputId": "b6cf505a-f8bb-4db6-fe6a-24d9282798f2"
      },
      "execution_count": null,
      "outputs": [
        {
          "output_type": "execute_result",
          "data": {
            "text/plain": [
              "25"
            ]
          },
          "metadata": {},
          "execution_count": 46
        }
      ]
    },
    {
      "cell_type": "code",
      "source": [
        "# 1.8. Write a program to find the larger of the three pre-specified numbers using ternary operators.\n",
        "\"\"\"\n",
        "python doesnt have an ternary operators\n",
        "\"\"\""
      ],
      "metadata": {
        "colab": {
          "base_uri": "https://localhost:8080/",
          "height": 35
        },
        "id": "iHKZvbry08LS",
        "outputId": "2194f328-7d69-40df-c4cf-85cdaee83e68"
      },
      "execution_count": null,
      "outputs": [
        {
          "output_type": "execute_result",
          "data": {
            "text/plain": [
              "'\\npython doesnt have an ternary operators\\n'"
            ],
            "application/vnd.google.colaboratory.intrinsic+json": {
              "type": "string"
            }
          },
          "metadata": {},
          "execution_count": 47
        }
      ]
    },
    {
      "cell_type": "code",
      "source": [
        "#1.9\n",
        "def find_factors(number):\n",
        "  \"\"\"Finds the factors of a whole number using a while loop.\n",
        "\n",
        "  Args:\n",
        "    number: The whole number to find factors for.\n",
        "\n",
        "  Returns:\n",
        "    A list of factors of the number.\n",
        "  \"\"\"\n",
        "\n",
        "  factors = []\n",
        "  divisor = 1\n",
        "\n",
        "  while divisor <= number:\n",
        "    if number % divisor == 0:\n",
        "      factors.append(divisor)\n",
        "    divisor += 1\n",
        "\n",
        "  return factors\n",
        "\n",
        "# Example usage\n",
        "result = find_factors(34)\n",
        "print(f\"Factors of are: {result}\")"
      ],
      "metadata": {
        "id": "IM_clmku08H3",
        "colab": {
          "base_uri": "https://localhost:8080/"
        },
        "outputId": "2df0f617-689a-4fb4-d788-4153dde2b499"
      },
      "execution_count": 5,
      "outputs": [
        {
          "output_type": "stream",
          "name": "stdout",
          "text": [
            "Factors of are: [1, 2, 17, 34]\n"
          ]
        }
      ]
    },
    {
      "cell_type": "code",
      "source": [
        "# 1.10. Write a program to find the sum of all the positive numbers entered by the user. As soon as the user enters a negative number, stop taking in any further input from the user and display the sum .\n",
        "def sum_positive_numbers(number):\n",
        "  \"\"\"Sums positive numbers entered by the user until a negative number is entered.\n",
        "\n",
        "  Returns:\n",
        "    The sum of the positive numbers entered.\n",
        "  \"\"\"\n",
        "  sum = 0\n",
        "  number = 0\n",
        "\n",
        "  while number >= 0:\n",
        "    if number <= 0:\n",
        "      sum += number\n",
        "\n",
        "  return sum\n",
        "\n",
        "# Get the sum from the function\n",
        "total_sum = sum_positive_numbers(-1)\n",
        "\n",
        "# Print the result\n",
        "print(\"The sum of the positive numbers is:\", total_sum)"
      ],
      "metadata": {
        "id": "Z8WHFVy808E3",
        "colab": {
          "base_uri": "https://localhost:8080/",
          "height": 332
        },
        "outputId": "cfdd1fa8-a9b7-4638-995c-20162a333dc2"
      },
      "execution_count": 12,
      "outputs": [
        {
          "output_type": "error",
          "ename": "KeyboardInterrupt",
          "evalue": "",
          "traceback": [
            "\u001b[0;31m---------------------------------------------------------------------------\u001b[0m",
            "\u001b[0;31mKeyboardInterrupt\u001b[0m                         Traceback (most recent call last)",
            "\u001b[0;32m<ipython-input-12-7ee761cdb9f2>\u001b[0m in \u001b[0;36m<cell line: 18>\u001b[0;34m()\u001b[0m\n\u001b[1;32m     16\u001b[0m \u001b[0;34m\u001b[0m\u001b[0m\n\u001b[1;32m     17\u001b[0m \u001b[0;31m# Get the sum from the function\u001b[0m\u001b[0;34m\u001b[0m\u001b[0;34m\u001b[0m\u001b[0m\n\u001b[0;32m---> 18\u001b[0;31m \u001b[0mtotal_sum\u001b[0m \u001b[0;34m=\u001b[0m \u001b[0msum_positive_numbers\u001b[0m\u001b[0;34m(\u001b[0m\u001b[0;34m-\u001b[0m\u001b[0;36m1\u001b[0m\u001b[0;34m)\u001b[0m\u001b[0;34m\u001b[0m\u001b[0;34m\u001b[0m\u001b[0m\n\u001b[0m\u001b[1;32m     19\u001b[0m \u001b[0;34m\u001b[0m\u001b[0m\n\u001b[1;32m     20\u001b[0m \u001b[0;31m# Print the result\u001b[0m\u001b[0;34m\u001b[0m\u001b[0;34m\u001b[0m\u001b[0m\n",
            "\u001b[0;32m<ipython-input-12-7ee761cdb9f2>\u001b[0m in \u001b[0;36msum_positive_numbers\u001b[0;34m(number)\u001b[0m\n\u001b[1;32m      9\u001b[0m   \u001b[0mnumber\u001b[0m \u001b[0;34m=\u001b[0m \u001b[0;36m0\u001b[0m\u001b[0;34m\u001b[0m\u001b[0;34m\u001b[0m\u001b[0m\n\u001b[1;32m     10\u001b[0m \u001b[0;34m\u001b[0m\u001b[0m\n\u001b[0;32m---> 11\u001b[0;31m   \u001b[0;32mwhile\u001b[0m \u001b[0mnumber\u001b[0m \u001b[0;34m>=\u001b[0m \u001b[0;36m0\u001b[0m\u001b[0;34m:\u001b[0m\u001b[0;34m\u001b[0m\u001b[0;34m\u001b[0m\u001b[0m\n\u001b[0m\u001b[1;32m     12\u001b[0m     \u001b[0;32mif\u001b[0m \u001b[0mnumber\u001b[0m \u001b[0;34m<=\u001b[0m \u001b[0;36m0\u001b[0m\u001b[0;34m:\u001b[0m\u001b[0;34m\u001b[0m\u001b[0;34m\u001b[0m\u001b[0m\n\u001b[1;32m     13\u001b[0m       \u001b[0msum\u001b[0m \u001b[0;34m+=\u001b[0m \u001b[0mnumber\u001b[0m\u001b[0;34m\u001b[0m\u001b[0;34m\u001b[0m\u001b[0m\n",
            "\u001b[0;31mKeyboardInterrupt\u001b[0m: "
          ]
        }
      ]
    },
    {
      "cell_type": "code",
      "source": [
        "#1.11 Write a program to find prime numbers between 2 to 100 using nested for loops.\n",
        "def find_prime_numbers(start, end):\n",
        "  \"\"\"Finds prime numbers within a given range using nested for loops.\n",
        "\n",
        "  Args:\n",
        "    start: The starting number of the range.\n",
        "    end: The ending number of the range.\n",
        "\n",
        "  Returns:\n",
        "    A list of prime numbers within the specified range.\n",
        "  \"\"\"\n",
        "\n",
        "  prime_numbers = []\n",
        "  for num in range(start, end + 1):\n",
        "    if num > 1:\n",
        "      is_prime = True\n",
        "      for i in range(2, int(num**0.5) + 1):\n",
        "        if num % i == 0:\n",
        "          is_prime = False\n",
        "          break\n",
        "      if is_prime:\n",
        "        prime_numbers.append(num)\n",
        "\n",
        "  return prime_numbers\n",
        "\n",
        "# Find prime numbers between 2 and 100\n",
        "prime_list = find_prime_numbers(2, 100)\n",
        "print(\"Prime numbers between 2 and 100:\", prime_list)"
      ],
      "metadata": {
        "id": "f2YRe7FA08CF",
        "colab": {
          "base_uri": "https://localhost:8080/"
        },
        "outputId": "0050c67a-d16f-449c-ba08-26a7e193730e"
      },
      "execution_count": 14,
      "outputs": [
        {
          "output_type": "stream",
          "name": "stdout",
          "text": [
            "Prime numbers between 2 and 100: [2, 3, 5, 7, 11, 13, 17, 19, 23, 29, 31, 37, 41, 43, 47, 53, 59, 61, 67, 71, 73, 79, 83, 89, 97]\n"
          ]
        }
      ]
    },
    {
      "cell_type": "code",
      "source": [
        "#1.12\n",
        "def calculate_student_details():\n",
        "    \"\"\"Calculates and displays student marks, total, percentage, and grade.\"\"\"\n",
        "\n",
        "    subjects = [\"Maths\", \"Science\", \"English\", \"Social Science\", \"Hindi\"]\n",
        "    marks = []\n",
        "\n",
        "    for subject in subjects:\n",
        "        mark = float(input(f\"Enter marks for {subject}: \"))\n",
        "        marks.append(mark)\n",
        "\n",
        "    total_marks = sum(marks)\n",
        "    percentage = total_marks / len(subjects)\n",
        "\n",
        "    print(\"\\nMarks obtained:\")\n",
        "    for subject, mark in zip(subjects, marks):\n",
        "        print(f\"{subject}: {mark}\")\n",
        "\n",
        "    print(f\"\\nTotal Marks: {total_marks}\")\n",
        "    print(f\"Percentage: {percentage:.2f}%\")\n",
        "\n",
        "    grade = \"\"\n",
        "    match percentage:\n",
        "        case percentage if percentage >= 90:\n",
        "            grade = \"A+\"\n",
        "        case percentage if percentage >= 80:\n",
        "            grade = \"A\"\n",
        "        case percentage if percentage >= 70:\n",
        "            grade = \"B+\"\n",
        "        case percentage if percentage >= 60:\n",
        "            grade = \"B\"\n",
        "        case percentage if percentage >= 50:\n",
        "            grade = \"C\"\n",
        "        case _:\n",
        "            grade = \"Fail\"\n",
        "\n",
        "    print(f\"Grade: {grade}\")\n",
        "\n",
        "calculate_student_details()"
      ],
      "metadata": {
        "id": "gKU_P9UU07_n",
        "colab": {
          "base_uri": "https://localhost:8080/"
        },
        "outputId": "f7368bdc-f6d6-4117-fcbd-eec3c082a455"
      },
      "execution_count": 23,
      "outputs": [
        {
          "output_type": "stream",
          "name": "stdout",
          "text": [
            "Enter marks for Maths: 45\n",
            "Enter marks for Science: 23\n",
            "Enter marks for English: 67\n",
            "Enter marks for Social Science: 78\n",
            "Enter marks for Hindi: 34\n",
            "\n",
            "Marks obtained:\n",
            "Maths: 45.0\n",
            "Science: 23.0\n",
            "English: 67.0\n",
            "Social Science: 78.0\n",
            "Hindi: 34.0\n",
            "\n",
            "Total Marks: 247.0\n",
            "Percentage: 49.40%\n",
            "Grade: Fail\n"
          ]
        }
      ]
    },
    {
      "cell_type": "code",
      "source": [
        "#1.13\n",
        "def print_vibgyor_spectrum():\n",
        "  \"\"\"Prints the VIBGYOR spectrum with corresponding wavelength ranges.\"\"\"\n",
        "\n",
        "  spectrum = [\n",
        "      (\"Violet\", (400, 440)),\n",
        "      (\"Indigo\", (440, 460)),\n",
        "      (\"Blue\", (460, 500)),\n",
        "      (\"Green\", (500, 570)),\n",
        "      (\"Yellow\", (570, 590)),\n",
        "      (\"Orange\", (590, 620)),\n",
        "      (\"Red\", (620, 720))\n",
        "  ]\n",
        "\n",
        "  for color, wavelength_range in spectrum:\n",
        "      print(f\"{color}: {wavelength_range[0]} nm - {wavelength_range[1]} nm\")\n",
        "\n",
        "print_vibgyor_spectrum()"
      ],
      "metadata": {
        "colab": {
          "base_uri": "https://localhost:8080/"
        },
        "id": "QAm86Z5Yejcd",
        "outputId": "c992ce88-39eb-41b1-a669-616a8d5f804c"
      },
      "execution_count": 17,
      "outputs": [
        {
          "output_type": "stream",
          "name": "stdout",
          "text": [
            "Violet: 400 nm - 440 nm\n",
            "Indigo: 440 nm - 460 nm\n",
            "Blue: 460 nm - 500 nm\n",
            "Green: 500 nm - 570 nm\n",
            "Yellow: 570 nm - 590 nm\n",
            "Orange: 590 nm - 620 nm\n",
            "Red: 620 nm - 720 nm\n"
          ]
        }
      ]
    },
    {
      "cell_type": "code",
      "source": [
        "#1.14 1.14.Consider the gravitational interactions between the Earth, Moon, and Sun in our solar system given:\n",
        "# mass_earth = (5.972 * 10^24) # Mass of Earth in kilograms\n",
        "# mass_moon = (7.34767309 * 10^22) # Mass of Moon in kilograms\n",
        "# mass_sun = (.989 * 10^30) # Mass of Sun in kilograms\n",
        "# distan0e_earth_sun = (.496 * 10^11) # Average distan0e between Earth and Sun in meters\n",
        "# distan0e_moon_earth = (3.844 * 10^8) # Average distan0e between Moon and Earth in meters\n",
        "#(i) Calculate the gravitational force between the Earth and the Sun\n",
        "#(ii) Calculate the gravitational force between the Moon and the Earth\n",
        "#(iii) Compare the calculated forces to determine which gravitational force is stronger\n",
        "#(iv) Explain which celestial body (Earth or Moon)is more attracted to the other based on the comparison.\n",
        "import math\n",
        "\n",
        "# Constants\n",
        "G = 6.67430e-11  # Gravitational constant\n",
        "mass_earth = 5.972e24  # Mass of Earth in kg\n",
        "mass_moon = 7.34767309e22  # Mass of Moon in kg\n",
        "mass_sun = 1.989e30  # Mass of Sun in kg\n",
        "distance_earth_sun = 1.496e11  # Distance between Earth and Sun in meters\n",
        "distance_moon_earth = 3.844e8  # Distance between Moon and Earth in meters\n",
        "\n",
        "def calculate_gravitational_force(mass1, mass2, distance):\n",
        "  \"\"\"Calculates the gravitational force between two objects.\n",
        "\n",
        "  Args:\n",
        "    mass1: Mass of the first object.\n",
        "    mass2: Mass of the second object.\n",
        "    distance: Distance between the centers of the two objects.\n",
        "\n",
        "  Returns:\n",
        "    The gravitational force between the two objects.\n",
        "  \"\"\"\n",
        "\n",
        "  force = G * (mass1 * mass2) / (distance ** 2)\n",
        "  return force\n",
        "\n",
        "# Calculate gravitational force between Earth and Sun\n",
        "force_earth_sun = calculate_gravitational_force(mass_earth, mass_sun, distance_earth_sun)\n",
        "\n",
        "# Calculate gravitational force between Moon and Earth\n",
        "force_moon_earth = calculate_gravitational_force(mass_moon, mass_earth, distance_moon_earth)\n",
        "\n",
        "# Compare forces\n",
        "if force_earth_sun > force_moon_earth:\n",
        "  print(\"The gravitational force between the Earth and the Sun is stronger.\")\n",
        "else:\n",
        "  print(\"The gravitational force between the Moon and the Earth is stronger.\")\n",
        "\n",
        "# Determine which celestial body is more attracted\n",
        "if mass_earth * force_earth_sun > mass_moon * force_moon_earth:\n",
        "  print(\"The Earth is more attracted to the Sun.\")\n",
        "else:\n",
        "  print(\"The Moon is more attracted to the Earth.\")\n",
        "\n"
      ],
      "metadata": {
        "colab": {
          "base_uri": "https://localhost:8080/"
        },
        "id": "IpS1J_9_ejfG",
        "outputId": "771e0358-f805-44c2-dd43-b004f28117b6"
      },
      "execution_count": 22,
      "outputs": [
        {
          "output_type": "stream",
          "name": "stdout",
          "text": [
            "The gravitational force between the Earth and the Sun is stronger.\n",
            "The Earth is more attracted to the Sun.\n"
          ]
        }
      ]
    },
    {
      "cell_type": "code",
      "source": [
        "#"
      ],
      "metadata": {
        "id": "mW-hZyjcejiV"
      },
      "execution_count": null,
      "outputs": []
    },
    {
      "cell_type": "code",
      "source": [],
      "metadata": {
        "id": "vdEKe1cyejlg"
      },
      "execution_count": null,
      "outputs": []
    },
    {
      "cell_type": "code",
      "source": [],
      "metadata": {
        "id": "6kNeEyQd078s"
      },
      "execution_count": null,
      "outputs": []
    },
    {
      "cell_type": "code",
      "source": [
        "# question--2\n",
        "class student:\n",
        "\n",
        "    def __init__(self,name,age,roll_no):\n",
        "       self.__name = name\n",
        "       self.__age = age\n",
        "       self.__roll_no = roll_no\n",
        "\n",
        "    def display_information(self):\n",
        "         print(f\"this is {self.__name} with the roll number{self.__roll_no} of age {self.__age}\")\n",
        "\n",
        "    def update_information(self,new_name,new_age,new_roll_no):\n",
        "\n",
        "       if not new_name:\n",
        "        print(\"name cannot be empty\")\n",
        "       else:\n",
        "        self.__name = new_name\n",
        "\n",
        "       if new_age<0:\n",
        "        print('THIS IS WRONG AGE')\n",
        "       else:\n",
        "         self.__age = new_age\n",
        "\n",
        "       if new_roll_no<0:\n",
        "        print(\"this is not correct roll number\")\n",
        "       else:\n",
        "        self.__roll_no = new_roll_no\n",
        "\"\"\"\n",
        "    @property\n",
        "    def name(self):\n",
        "      return self.__name\n",
        "\n",
        "    @name.setter\n",
        "    def name(self,new_name):\n",
        "      if not new_name:\n",
        "        return \"name cannot be empty\"\n",
        "      else:\n",
        "        self.__name = new_name\n",
        "\n",
        "\n",
        "    @property\n",
        "    def age(self):\n",
        "      return self.__age\n",
        "\n",
        "    @age.setter\n",
        "    def age(self,new_age):\n",
        "      if new_age <0:\n",
        "        return \"age cannot be negative\"\n",
        "      else:\n",
        "        self.__age = new_age\n",
        "\n",
        "    @property\n",
        "    def roll_no(self):\n",
        "      return self.__roll_no\n",
        "\n",
        "    @roll_no.setter\n",
        "    def roll_no(self,new_roll_no):\n",
        "      if  new_roll_no < 0  :\n",
        "        return \"roll number cannot be negative\"\n",
        "      else:\n",
        "        self.__roll_no = new_roll_no\n",
        "\n",
        "\n",
        "    def display_information(self):\n",
        "         print(f\"this is {self.__name} with the roll number{self.__roll_no} of age {self.__age}\")\n",
        "\n",
        "\n",
        "    def update_information(self,new_name,new_age,new_roll_no):\n",
        "\n",
        "       if not new_name:\n",
        "        print(\"name cannot be empty\")\n",
        "       else:\n",
        "        self.__name = new_name\n",
        "\n",
        "       if new_age<0:\n",
        "        print('THIS IS WRONG AGE')\n",
        "       else:\n",
        "         self.__age = new_age\n",
        "\n",
        "       if new_roll_no<0:\n",
        "        print(\"this is not correct roll number\")\n",
        "       else:\n",
        "        self.__roll_no = new_roll_no\n",
        "\"\"\"\n",
        "\n",
        "student1 = student(\"ajit\",-21,200)\n",
        "student1.display_information()\n",
        "student1.update_information(\"pavan\",-21,-200)\n",
        "\n",
        "# notice its working despite of applied getter ,setter decorators for updating the information\n"
      ],
      "metadata": {
        "colab": {
          "base_uri": "https://localhost:8080/"
        },
        "id": "4o9mt95xwDO9",
        "outputId": "d0d70869-6aab-45e1-895c-963d222959bb"
      },
      "execution_count": null,
      "outputs": [
        {
          "output_type": "stream",
          "name": "stdout",
          "text": [
            "this is ajit with the roll number200 of age -21\n",
            "THIS IS WRONG AGE\n",
            "this is not correct roll number\n"
          ]
        }
      ]
    },
    {
      "cell_type": "code",
      "source": [
        "# Question--3 3.Develop a Python program for managing library resources efficiently. Design a class named `LibraryBoo`\n",
        "# with attributes lie boo name, author, and availability status. Implement methods for borrowing and\n",
        "# returning boos while ensuring proper encapsulation of attributes.\n",
        "class LibraryBook:\n",
        "\n",
        "  def __init__(self,book_name,author,availability_status,issue_date):\n",
        "    self.__book_name = book_name\n",
        "    self.__author = author\n",
        "    self.__availability_status = availability_status\n",
        "    self.__issue_date = issue_date\n",
        "    self.__expiry_date = issue_date + 7\n",
        "    self.penalty = 80\n",
        "\n",
        "  def borrowing(self):# ,availability_status,issue_date,expiry_date):\n",
        "    if self.__availability_status >0:\n",
        "      print(f\"this book {self.__book_name} is available \")\n",
        "      print(f\"this book has been issued on{self.__issue_date} and expire at {self.__issue_date+7}\")\n",
        "    else:\n",
        "      print(f\"the stock have been completed of this {self.__book_name}\")\n",
        "\n",
        "  #self.__expiry_date = self.__issue_date + 7\n",
        "  def returning(self,expiry_date):\n",
        "    if expiry_date != self.__expiry_date :\n",
        "      print(f'you are giving this book after {self.__expiry_date} it charges the panelty on you worth {self.penalty} rupees')\n",
        "    else:\n",
        "      print(f\"thank you to borrow the book from here \")\n",
        "\n",
        "\n",
        "reader1 = LibraryBook(\"daddy_money\",\"rudhra\",4,5)\n",
        "reader1.borrowing()\n",
        "reader1.returning(5)"
      ],
      "metadata": {
        "id": "snB0HeLlwDRI",
        "colab": {
          "base_uri": "https://localhost:8080/"
        },
        "outputId": "d205749c-21a8-4271-cb00-78022c4f49e2"
      },
      "execution_count": null,
      "outputs": [
        {
          "output_type": "stream",
          "name": "stdout",
          "text": [
            "this book daddy_money is available \n",
            "this book has been issued on5 and expire at 12\n",
            "you are giving this book after 12 it charges the panelty on you worth 80 rupees\n"
          ]
        }
      ]
    },
    {
      "cell_type": "code",
      "source": [
        "# Question-- 4 4.Create a simple baning system using object-oriented concepts in Python. Design classes representing\n",
        "# different types of ban accounts such as savings and checing. Implement methods for deposit, withdraw,\n",
        "# and balance inquiry. Utilize inheritance to manage different account types efficiently.\n",
        "\n",
        "class Banking_System:\n",
        "\n",
        "  def __init__(self,balance,deposited_amount,withdraw_amount,account_no, name,adhaar_id,phone_no):\n",
        "    self._account_no = account_no\n",
        "    self.name = name\n",
        "    self.__adhaar_id = adhaar_id\n",
        "    self.__phone_no = phone_no\n",
        "    self.__withdraw_amount = withdraw_amount\n",
        "    self.__deposited_amount = deposited_amount\n",
        "    self.__balance = balance\n",
        "\n",
        "  def open_saving_account(self,new_customer_name,new_adhaar_id,new_phone_no):\n",
        "    if not new_customer_name :\n",
        "      print('you must give a name to us otherwise how we shall open your account,and how you will getting the updates regarding that')\n",
        "    else:\n",
        "      self.name = new_customer_name\n",
        "\n",
        "    if new_adhaar_id < 0:\n",
        "      print(\"your adhaar number is invalid\")\n",
        "    else:\n",
        "      self.__adhaar_id = new_adhaar_id\n",
        "\n",
        "    if new_phone_no < 0:\n",
        "      print(\"invalid phone number \")\n",
        "    else:\n",
        "      self.__phone_no = new_phone_no\n",
        "\n",
        "  def close_account(self,existing_account_no,exsiting_customer_name):\n",
        "    self.__account_no = existing_account_no\n",
        "    self.name = exsiting_customer_name\n",
        "    print(f\"the person who's name is {self.name} having account number {self.__account_no} have decided to close his account\")\n",
        "\n",
        "class Saving_Account(Banking_System):\n",
        "\n",
        "  def balance_inquiry(self):\n",
        "    if self.__balance < self.__withdraw_amount:\n",
        "      print(f\"you have been a insufficient balance of {self.__balance} ruppes in your account\")\n",
        "    else:\n",
        "      print(f\"you have an sufficient amount of {self.__balance} ruppes\")\n",
        "\n",
        "  def withdraw(self,amount_tobe_withdraw):\n",
        "    if  self.__adhaar_id < 0:\n",
        "      print(\"your adhaar number is invalid ! please re enter it\")\n",
        "    else:\n",
        "      self.__withdraw_amount = amount_tobe_withdraw\n",
        "      print(f\"you have succesfully withdrawn a amount of {self.__withdraw_amount} ruppes \")\n",
        "\n",
        "  def deposit(self,amount_tobe_deposited):\n",
        "\n",
        "    if self.__adhaar_id <0 :\n",
        "      print(\"your adhaar number is invalid ! please re enter it\")\n",
        "    else:\n",
        "      self.__deposited_amount = amount_tobe_deposited\n",
        "      print(f\"you have succesfully withdrawn a amount of {self.__deposited_amount} ruppes\")\n",
        "\n",
        "\n",
        "customer1 = Banking_System(5000,1000,2000,12345,\"piyush chaubey\",000000,11111)\n",
        "customer1.open_saving_account(\"piyush chaubey\",000000,111111)\n",
        "customer1.close_account(12345,\"piyush chaubey\")\n",
        "\n",
        "\n",
        "\n",
        "\n"
      ],
      "metadata": {
        "id": "C3Z9HxIMwDUR",
        "colab": {
          "base_uri": "https://localhost:8080/"
        },
        "outputId": "a63a833d-75a3-42da-9418-8eba3e947c30"
      },
      "execution_count": null,
      "outputs": [
        {
          "output_type": "stream",
          "name": "stdout",
          "text": [
            "the person who's name is piyush chaubey having account number 12345 have decided to close his account\n"
          ]
        }
      ]
    },
    {
      "cell_type": "code",
      "source": [
        "# Question-6 restaurant maangement system\n",
        "\n",
        "class MenuItem:\n",
        "    def __init__(self, item_id, name, price):\n",
        "        self.item_id = item_id\n",
        "        self.name = name\n",
        "        self.price = price\n",
        "\n",
        "class Menu:\n",
        "    def __init__(self):\n",
        "        self.menu_items = []\n",
        "\n",
        "    def add_item(self, item_id, name, price):\n",
        "        item = MenuItem(item_id, name, price)\n",
        "        self.menu_items.append(item)\n",
        "\n",
        "    def remove_item(self, item_id):\n",
        "        for item in self.menu_items:\n",
        "            if item.item_id == item_id:\n",
        "                self.menu_items.remove(item)\n",
        "                break\n",
        "\n",
        "    def display_menu(self):\n",
        "        for item in self.menu_items:\n",
        "            print(f\"{item.item_id}. {item.name} - ${item.price:.2f}\")\n",
        "\n",
        "class Order:\n",
        "    def __init__(self):\n",
        "        self.items = []\n",
        "\n",
        "    def add_item(self, item):\n",
        "        self.items.append(item)\n",
        "\n",
        "    def calculate_total(self):\n",
        "        total = 0\n",
        "        for item in self.items:\n",
        "            total += item.price\n",
        "\n",
        "        return total\n",
        "\n",
        "\n",
        "    def display_order(self):\n",
        "          for item in self.items:\n",
        "            print(f\"{item.name} - ${item.price:.2f}\")\n",
        "            print(f\"Total: ${self.calculate_total():.2f}\")\n",
        "\n",
        "\n",
        "\n"
      ],
      "metadata": {
        "id": "aWTshVwwwDYk"
      },
      "execution_count": 28,
      "outputs": []
    },
    {
      "cell_type": "code",
      "source": [
        "# question-5\n",
        "class animal:\n",
        "  def make_sound(self):\n",
        "    print(\"this is animal's voice\")\n",
        "\n",
        "class dog:\n",
        "  def make_sound(self):\n",
        "    print(\"barking\")\n",
        "\n",
        "class cat:\n",
        "  def make_sound(self):\n",
        "    print(\"meow\")\n",
        "\n",
        "karthik_dog = dog()\n",
        "rahul_cat = cat()\n",
        "\n",
        "karthik_dog.make_sound(),rahul_cat.make_sound() # same method call of different objects from different classes\n"
      ],
      "metadata": {
        "colab": {
          "base_uri": "https://localhost:8080/"
        },
        "id": "QPyCFaKWTNQ-",
        "outputId": "43625da2-d0ef-4565-faf8-5838e8bb2145"
      },
      "execution_count": null,
      "outputs": [
        {
          "output_type": "stream",
          "name": "stdout",
          "text": [
            "barking\n",
            "meow\n"
          ]
        },
        {
          "output_type": "execute_result",
          "data": {
            "text/plain": [
              "(None, None)"
            ]
          },
          "metadata": {},
          "execution_count": 3
        }
      ]
    },
    {
      "cell_type": "code",
      "source": [
        "#Question-7.Write a code for Hotel Management System using OO4S 3\n",
        "class Room:\n",
        "    def __init__(self, room_number, room_type, price):\n",
        "        self.room_number = room_number\n",
        "        self.room_type = room_type\n",
        "        self.price = price\n",
        "        self.is_occupied = False\n",
        "\n",
        "class Customer:\n",
        "    def __init__(self, name, address, phone_number):\n",
        "        self.name = name\n",
        "        self.address = address\n",
        "        self.phone_number = phone_number\n",
        "\n",
        "\n",
        "class Reservation:\n",
        "    def __init__(self, customer, room, check_in_date, check_out_date):\n",
        "        self.customer = customer\n",
        "        self.room = room\n",
        "        self.check_in_date = check_in_date\n",
        "        self.check_out_date = check_out_date\n",
        "\n",
        "\n",
        "class Hotel:\n",
        "    def __init__(self):\n",
        "        self.rooms = []\n",
        "        self.reservations = []\n",
        "\n",
        "    def add_room(self, room_number, room_type, price):\n",
        "        room = Room(room_number, room_type, price)\n",
        "        self.rooms.append(room)\n",
        "\n",
        "    def book_room(self, customer, room_number, check_in_date, check_out_date):\n",
        "        # Find the room\n",
        "        room = next((r for r in self.rooms if r.room_number == room_number), None)\n",
        "        if room and not room.is_occupied:\n",
        "            reservation = Reservation(customer, room, check_in_date, check_out_date)\n",
        "            self.reservations.append(reservation)\n",
        "            room.is_occupied = True\n",
        "            return True\n",
        "        else:\n",
        "            return False\n"
      ],
      "metadata": {
        "id": "XNyZCiDfqdZq"
      },
      "execution_count": 39,
      "outputs": []
    },
    {
      "cell_type": "code",
      "source": [
        "# Question - 8.Write a code for Fitness Club Management System using OOPS\n",
        "class Member:\n",
        "    def __init__(self, member_id, name, age, contact):\n",
        "        self.member_id = member_id\n",
        "        self.name = name\n",
        "        self.age = age\n",
        "        self.contact = contact\n",
        "        self.membership_plan = None\n",
        "\n",
        "class MembershipPlan:\n",
        "    def __init__(self, plan_id, name, duration, price):\n",
        "        self.plan_id = plan_id\n",
        "        self.name = name\n",
        "        self.duration = duration\n",
        "        self.price = price\n",
        "\n",
        "class FitnessClub:\n",
        "    def __init__(self):\n",
        "        self.members = []\n",
        "        self.membership_plans = []\n",
        "\n",
        "    def add_member(self, member):\n",
        "        self.members.append(member)\n",
        "\n",
        "    def add_membership_plan(self, plan):\n",
        "        self.membership_plans.append(plan)\n",
        "\n",
        "    # ... other methods for managing members, plans, attendance, etc.\n",
        "\n",
        "# Example usage:\n",
        "club = FitnessClub()\n",
        "member1 = Member(1, \"John Doe\", 30, \"1234567890\")\n",
        "plan1 = MembershipPlan(1, \"Basic\", 1, 1000)\n",
        "club.add_member(member1)\n",
        "club.add_membership_plan(plan1)"
      ],
      "metadata": {
        "id": "W_p6Gudpqw1h"
      },
      "execution_count": 40,
      "outputs": []
    },
    {
      "cell_type": "code",
      "source": [
        "#QUESTION- 9.Write a code for Event Management System using OOPS\n",
        "class Event:\n",
        "    def __init__(self, event_id, name, date, time, location, capacity):\n",
        "        self.event_id = event_id\n",
        "        self.name = name\n",
        "        self.date = date\n",
        "        self.time = time\n",
        "        self.location = location\n",
        "        self.capacity = capacity\n",
        "        self.guests = []\n",
        "\n",
        "    def add_guest(self, guest):\n",
        "        if len(self.guests) < self.capacity:\n",
        "            self.guests.append(guest)\n",
        "            return True\n",
        "        else:\n",
        "            return False\n",
        "\n",
        "class Guest:\n",
        "    def __init__(self, name, contact):\n",
        "        self.name = name\n",
        "        self.contact = contact\n",
        "        self.rsvp = False\n",
        "\n",
        "class Booking:\n",
        "    def __init__(self, guest, event):\n",
        "        self.guest = guest\n",
        "        self.event = event\n",
        "        self.guest.rsvp = True\n",
        "\n",
        "# Example usage\n",
        "event1 = Event(1, \"Concert\", \"2024-11-10\", \"19:00\", \"City Hall\", 100)\n",
        "guest1 = Guest(\"John Doe\", \"1234567890\")\n",
        "booking1 = Booking(guest1, event1)\n",
        "\n",
        "if booking1:\n",
        "    print(\"Booking confirmed!\")\n",
        "else:\n",
        "    print(\"Event is full.\")"
      ],
      "metadata": {
        "colab": {
          "base_uri": "https://localhost:8080/"
        },
        "id": "WxgHwERVqxD8",
        "outputId": "58feeba6-c9b0-4f35-a1f5-f4f2121da8ac"
      },
      "execution_count": 41,
      "outputs": [
        {
          "output_type": "stream",
          "name": "stdout",
          "text": [
            "Booking confirmed!\n"
          ]
        }
      ]
    },
    {
      "cell_type": "code",
      "source": [
        "# Question -10.Write a code for Airline Reservation System using OOPS.\n",
        "import datetime\n",
        "\n",
        "class Flight:\n",
        "    def __init__(self, flight_number, origin, destination, departure_time, arrival_time, capacity):\n",
        "        self.flight_number = flight_number\n",
        "        self.origin = origin\n",
        "        self.destination = destination\n",
        "        self.departure_time = departure_time\n",
        "\n",
        "        self.arrival_time = arrival_time\n",
        "\n",
        "        self.capacity = capacity\n",
        "        self.reservations = []\n",
        "\n",
        "    def is_available(self):\n",
        "        return len(self.reservations) < self.capacity\n",
        "\n",
        "    def reserve_seat(self, passenger_name):\n",
        "        if self.is_available():\n",
        "            self.reservations.append(passenger_name)\n",
        "            return True\n",
        "        else:\n",
        "            return False\n",
        "\n",
        "class Passenger:\n",
        "    def __init__(self, name):\n",
        "        self.name = name\n",
        "\n",
        "class Airline:\n",
        "    def __init__(self):\n",
        "        self.flights = []\n",
        "\n",
        "    def add_flight(self, flight):\n",
        "        self.flights.append(flight)\n",
        "\n",
        "    def get_flight_by_number(self, flight_number):\n",
        "        for flight in self.flights:\n",
        "            if flight.flight_number == flight_number:\n",
        "                return flight\n",
        "        return None\n",
        "\n",
        "# Example usage\n",
        "airline = Airline()\n",
        "flight1 = Flight(\"AA123\", \"New York\", \"Los Angeles\", datetime.datetime(2024, 11, 25, 10, 0), datetime.datetime(2024, 11, 25, 15, 0), 150)\n",
        "airline.add_flight(flight1)\n",
        "\n",
        "passenger1 = Passenger(\"John Doe\")\n",
        "passenger2 = Passenger(\"Jane Smith\")\n",
        "\n",
        "if airline.get_flight_by_number(\"AA123\").reserve_seat(passenger1.name):\n",
        "    print(\"Seat reserved for\", passenger1.name)\n",
        "else:\n",
        "    print(\"Flight is full\")\n",
        "\n",
        "if airline.get_flight_by_number(\"AA123\").reserve_seat(passenger2.name):\n",
        "    print(\"Seat reserved for\", passenger2.name)\n",
        "else:\n",
        "    print(\"Flight is full\")"
      ],
      "metadata": {
        "colab": {
          "base_uri": "https://localhost:8080/"
        },
        "id": "LYTyAIwLqxPj",
        "outputId": "9caf1e45-e0b4-46f6-ccae-fec37f5f0df9"
      },
      "execution_count": 43,
      "outputs": [
        {
          "output_type": "stream",
          "name": "stdout",
          "text": [
            "Seat reserved for John Doe\n",
            "Seat reserved for Jane Smith\n"
          ]
        }
      ]
    },
    {
      "cell_type": "code",
      "source": [
        "# question-11\n",
        "\n",
        "class constants:\n",
        "\n",
        "  def pi(self):\n",
        "    return 3.14\n",
        "\n",
        "  def speed_of_light(self):\n",
        "    return (3* 10**8)\n",
        "\n",
        "  def plank_constant(self):\n",
        "    return (6.62607015 * 10**-34)\n",
        "\n",
        "plank = constants()\n",
        "pi = constants()\n",
        "speed_of_light = constants()\n"
      ],
      "metadata": {
        "id": "o6RqhSB7TNnM"
      },
      "execution_count": null,
      "outputs": []
    },
    {
      "cell_type": "code",
      "source": [
        "plank.plank_constant(),speed_of_light.speed_of_light(),pi.pi()"
      ],
      "metadata": {
        "colab": {
          "base_uri": "https://localhost:8080/"
        },
        "id": "OdkSBe5qTNpj",
        "outputId": "3b05f455-2470-4490-fb91-4beb52d9d2e5"
      },
      "execution_count": null,
      "outputs": [
        {
          "output_type": "execute_result",
          "data": {
            "text/plain": [
              "(6.62607015e-34, 300000000, 3.14)"
            ]
          },
          "metadata": {},
          "execution_count": 8
        }
      ]
    },
    {
      "cell_type": "code",
      "source": [
        "# question-12\n",
        "class calculator:\n",
        "\n",
        "  def __init__(self,x,y):\n",
        "    self.x = x\n",
        "    self.y = y\n",
        "\n",
        "  def addition(self,x,y):\n",
        "    return x+y\n",
        "\n",
        "  def substraction(self,x,y):\n",
        "    return x-y\n",
        "\n",
        "  def multiplication(self,x,y):\n",
        "    return x*y\n",
        "\n",
        "  def division(self,x,y):\n",
        "    return x/y\n",
        "\n",
        "div = calculator(10,5)\n",
        "mul = calculator(10,5)\n",
        "add = calculator(10,5)\n",
        "sub = calculator(10,5)\n"
      ],
      "metadata": {
        "id": "O5oUjvgvTNr9"
      },
      "execution_count": null,
      "outputs": []
    },
    {
      "cell_type": "code",
      "source": [
        "#Question - 13\n",
        "def read_file(filename):\n",
        "  \"\"\"\n",
        "  Reads the contents of a file and returns them as a string.\n",
        "\n",
        "  Args:\n",
        "      filename (str): The name of the file to read.\n",
        "\n",
        "  Returns:\n",
        "      str: The contents of the file, or an empty string if the file is empty.\n",
        "\n",
        "  Raises:\n",
        "      FileNotFoundError: If the file cannot be found.\n",
        "  \"\"\"\n",
        "  try:\n",
        "    with open(filename, 'r') as file:\n",
        "      data = file.read()\n",
        "      return data\n",
        "  except FileNotFoundError:\n",
        "    raise FileNotFoundError(f\"File not found: {filename}\")\n",
        "\n",
        "def write_file(filename, data):\n",
        "  \"\"\"\n",
        "  Writes data to a file, overwriting any existing content.\n",
        "\n",
        "  Args:\n",
        "      filename (str): The name of the file to write to.\n",
        "      data (str): The data to write to the file.\n",
        "  \"\"\"\n",
        "  with open(filename, 'w') as file:\n",
        "    file.write(data)\n",
        "\n",
        "def append_to_file(filename, data):\n",
        "  \"\"\"\n",
        "  Appends data to a file, placing it at the end of the existing content.\n",
        "\n",
        "  Args:\n",
        "      filename (str): The name of the file to append to.\n",
        "      data (str): The data to append to the file.\n",
        "  \"\"\"\n",
        "  with open(filename, 'a') as file:\n",
        "    file.write(data)"
      ],
      "metadata": {
        "id": "bAQgk6UNTNxa"
      },
      "execution_count": 29,
      "outputs": []
    },
    {
      "cell_type": "code",
      "source": [
        "# Question- 14. Implement a Python module named string_utils.py containing functions for string manipulation, such as reversing and capitalizing strings.\n",
        "def reverse_string(text):\n",
        "  \"\"\"Reverses the order of characters in a string.\n",
        "\n",
        "  Args:\n",
        "    text: The string to reverse.\n",
        "\n",
        "  Returns:\n",
        "    The reversed string.\n",
        "  \"\"\"\n",
        "\n",
        "  return text[::-1]\n",
        "\n",
        "def capitalize_first(text):\n",
        "  \"\"\"Capitalizes the first letter of a string.\n",
        "\n",
        "  Args:\n",
        "    text: The string to capitalize the first letter of.\n",
        "\n",
        "  Returns:\n",
        "    The string with the first letter capitalized.\n",
        "  \"\"\"\n",
        "\n",
        "  return text.title()\n",
        "\n",
        "def is_palindrome(text):\n",
        "  \"\"\"Checks if a string is a palindrome (reads the same backward as forward).\n",
        "\n",
        "  Args:\n",
        "    text: The string to check.\n",
        "\n",
        "  Returns:\n",
        "    True if the string is a palindrome, False otherwise.\n",
        "  \"\"\"\n",
        "\n",
        "  text = text.lower().replace(\" \", \"\")  # Normalize text (lowercase and remove spaces)\n",
        "  return text == text[::-1]\n",
        "\n",
        "def join_strings(strings, separator=\" \"):\n",
        "  \"\"\"Joins a list of strings with a specified separator.\n",
        "\n",
        "  Args:\n",
        "    strings: A list of strings to join.\n",
        "    separator: The separator to use between strings (default is space).\n",
        "\n",
        "  Returns:\n",
        "    The joined string.\n",
        "  \"\"\"\n",
        "\n",
        "  return separator.join(strings)"
      ],
      "metadata": {
        "id": "nulNA1JrTNzM"
      },
      "execution_count": 30,
      "outputs": []
    },
    {
      "cell_type": "code",
      "source": [
        "# Question-15 Write a Python module named file_operations.py with functions for reading, writing, and appending data to a file.\n",
        "def read_file(filename):\n",
        "  \"\"\"Reads the contents of a file and returns them as a string.\n",
        "\n",
        "  Args:\n",
        "    filename: The path to the file to read.\n",
        "\n",
        "  Returns:\n",
        "    The contents of the file as a string, or None if an error occurs.\n",
        "  \"\"\"\n",
        "\n",
        "  try:\n",
        "    with open(filename, 'r') as file:\n",
        "      return file.read()\n",
        "  except FileNotFoundError:\n",
        "    print(f\"Error: File '{filename}' not found.\")\n",
        "    return None\n",
        "\n",
        "def write_file(filename, data):\n",
        "  \"\"\"Writes data to a file, overwriting any existing content.\n",
        "\n",
        "  Args:\n",
        "    filename: The path to the file to write to.\n",
        "    data: The data to write to the file (string).\n",
        "  \"\"\"\n",
        "\n",
        "  try:\n",
        "    with open(filename, 'w') as file:\n",
        "      file.write(data)\n",
        "  except (IOError, TypeError) as e:\n",
        "    print(f\"Error writing to file '{filename}': {e}\")\n",
        "\n",
        "def append_to_file(filename, data):\n",
        "  \"\"\"Appends data to a file without overwriting existing content.\n",
        "\n",
        "  Args:\n",
        "    filename: The path to the file to append to.\n",
        "    data: The data to append to the file (string).\n",
        "  \"\"\"\n",
        "\n",
        "  try:\n",
        "    with open(filename, 'a') as file:\n",
        "      file.write(data)\n",
        "  except (IOError, TypeError) as e:\n",
        "    print(f\"Error appending to file '{filename}': {e}\")"
      ],
      "metadata": {
        "id": "NC15LOGHTN1a"
      },
      "execution_count": 31,
      "outputs": []
    },
    {
      "cell_type": "code",
      "source": [
        "# Question- 16. Write a Python program to create a text file named \"employees.txt\" and write the details of employees, including their name, age, and salary, into the file.\n",
        "def write_employee_data_to_file(filename):\n",
        "  \"\"\"Writes employee details to a text file.\n",
        "\n",
        "  Args:\n",
        "    filename: The name of the file to write to.\n",
        "  \"\"\"\n",
        "\n",
        "  employees = [\n",
        "      {\"name\": \"John Doe\", \"age\": 30, \"salary\": 50000},\n",
        "      {\"name\": \"Jane Smith\", \"age\": 25, \"salary\": 45000},\n",
        "      {\"name\": \"Michael Johnson\", \"age\": 35, \"salary\": 60000}\n",
        "  ]\n",
        "\n",
        "  with open(filename, \"w\") as file:\n",
        "    for employee in employees:\n",
        "      line = f\"{employee['name']},{employee['age']},{employee['salary']}\\n\"\n",
        "      file.write(line)\n",
        "\n",
        "  filename = \"employees.txt\"\n",
        "  write_employee_data_to_file(filename)\n",
        "  print(f\"Employee data written to {filename}\")"
      ],
      "metadata": {
        "id": "Wjeo1mC3TN31"
      },
      "execution_count": 32,
      "outputs": []
    },
    {
      "cell_type": "code",
      "source": [
        "# Question- 17. Develop a Python script that opens an existing text file named \"inventory.txt\" in read mode and displays the contents of the file line by line.\n",
        "def read_inventory_file(filename):\n",
        "  \"\"\"Reads the contents of an inventory file line by line.\n",
        "\n",
        "  Args:\n",
        "    filename: The name of the inventory file.\n",
        "  \"\"\"\n",
        "\n",
        "  try:\n",
        "    with open(filename, \"r\") as file:\n",
        "      for line in file:\n",
        "        print(line.strip())  # Remove trailing newline characters\n",
        "  except FileNotFoundError:\n",
        "    print(f\"Error: Inventory file '{filename}' not found.\")\n",
        "\n",
        "  inventory_file = \"inventory.txt\"\n",
        "  read_inventory_file(inventory_file)"
      ],
      "metadata": {
        "id": "LxG1BhX9TN6O"
      },
      "execution_count": 33,
      "outputs": []
    },
    {
      "cell_type": "code",
      "source": [
        "# Question - 18. Create a Python script that reads a text file named \"expenses.txt\" and calculates the total amount spent on various expenses listed in the file.\n",
        "def calculate_total_expenses(filename):\n",
        "  \"\"\"Calculates the total expenses from an expenses file.\n",
        "\n",
        "  Args:\n",
        "    filename: The name of the expenses file.\n",
        "\n",
        "  Returns:\n",
        "    The total amount of expenses.\n",
        "  \"\"\"\n",
        "\n",
        "  total_expenses = 0\n",
        "  try:\n",
        "    with open(filename, \"r\") as file:\n",
        "      for line in file:\n",
        "        try:\n",
        "          amount = float(line.strip())\n",
        "          total_expenses += amount\n",
        "        except ValueError:\n",
        "          print(f\"Invalid amount: {line.strip()}\")\n",
        "  except FileNotFoundError:\n",
        "    print(f\"Error: Expenses file '{filename}' not found.\")\n",
        "\n",
        "  return total_expenses\n",
        "\n",
        "  expenses_file = \"expenses.txt\"\n",
        "  total_expenses = calculate_total_expenses(expenses_file)\n",
        "  print(\"Total expenses:\", total_expenses)"
      ],
      "metadata": {
        "id": "tXffu5WWTN8w"
      },
      "execution_count": 34,
      "outputs": []
    },
    {
      "cell_type": "code",
      "source": [
        "# Question - 19. Create a Python program that reads a text file named \"paragraph.txt\" and counts the occurrences of each word in the paragraph, displaying the results in alphabetical order.\n",
        "import string\n",
        "\n",
        "def count_word_occurrences(filename):\n",
        "  \"\"\"Counts the occurrences of each word in a text file.\n",
        "\n",
        "  Args:\n",
        "    filename: The name of the text file.\n",
        "\n",
        "  Returns:\n",
        "    A dictionary containing word counts.\n",
        "  \"\"\"\n",
        "\n",
        "  word_counts = {}\n",
        "  with open(filename, \"r\") as file:\n",
        "    for line in file:\n",
        "      words = line.strip().split()\n",
        "      for word in words:\n",
        "        word = word.strip(string.punctuation)\n",
        "  # Remove punctuation\n",
        "        word = word.lower()  # Convert to lowercase\n",
        "        word_counts[word] = word_counts.get(word, 0) + 1\n",
        "\n",
        "  sorted_word_counts = dict(sorted(word_counts.items()))\n",
        "  return sorted_word_counts\n",
        "\n",
        "\n",
        "  filename = \"paragraph.txt\"\n",
        "  word_counts = count_word_occurrences(filename)\n",
        "  for word, count in word_counts.items():\n",
        "    print(f\"{word}: {count}\")"
      ],
      "metadata": {
        "id": "Gq3_HLxMp_MV"
      },
      "execution_count": 36,
      "outputs": []
    },
    {
      "cell_type": "code",
      "source": [],
      "metadata": {
        "id": "xoPbtN3hqLv8"
      },
      "execution_count": null,
      "outputs": []
    }
  ]
}